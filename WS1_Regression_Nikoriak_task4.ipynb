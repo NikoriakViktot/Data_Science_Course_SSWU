{
 "cells": [
  {
   "cell_type": "markdown",
   "metadata": {
    "id": "view-in-github",
    "colab_type": "text"
   },
   "source": [
    "<a href=\"https://colab.research.google.com/github/NikoriakViktot/Data_Science_Course_SSWU/blob/main/WS1_Regression_Nikoriak.ipynb\" target=\"_parent\"><img src=\"https://colab.research.google.com/assets/colab-badge.svg\" alt=\"Open In Colab\"/></a>"
   ]
  },
  {
   "cell_type": "markdown",
   "metadata": {
    "id": "zifQHA7NcpIl"
   },
   "source": [
    "# Інформація про датасет"
   ]
  },
  {
   "cell_type": "markdown",
   "metadata": {
    "id": "X9FcdssRqNsZ"
   },
   "source": [
    "**Інформація про набір даних:**<br>\n",
    "Набір даних містить 9358 усереднених за годину відповідей від масиву з 5 хімічних датчиків оксиду металу, вбудованих у хімічний мультисенсорний пристрій якості повітря. Апарат був розташований на полі в сильно забрудненому районі, на рівні дороги, в межах італійського міста. Дані були записані з березня 2004 р. по лютий 2005 р. (один рік), що представляє собою найдовші доступні у вільному доступі записи відповідей хімічних датчиків якості повітря, розміщених у полі. Ground Truth усереднені за годину концентрації CO, неметанових вуглеводнів, бензолу, загальних оксидів азоту (NOx) і діоксиду азоту (NO2) були надані суміжним еталонним сертифікованим аналізатором. <br>Відсутні значення позначено значенням -200.<br>\n",
    "Інформація про атрибути:<br>\n",
    "\n",
    "0. Date - Дата (ДД/ММ/РРРР)\n",
    "1. Time - Час (ГГ.ХХ.СС)\n",
    "2. CO(GT) Справжня середньогодинна концентрація СО в мг/м^3 (еталонний аналізатор)\n",
    "3. PT08.S1 (оксид олова) усереднена за годину відповідь датчика (номінально цільовий CO)\n",
    "4. NMHC(GT) - Справжня середньогодинна загальна концентрація неметанових вуглеводнів у мкг/м^3 (еталонний аналізатор)\n",
    "5. C6H6(GT) - Справжня середньогодинна концентрація бензолу в мкг/м^3 (еталонний аналізатор)\n",
    "6. PT08.S2 (titania) усереднена за годину відповідь датчика (номінально націлений NMHC)\n",
    "7. NOx(GT) - Справжня середньогодинна концентрація NOx в ppb (еталонний аналізатор)\n",
    "8. PT08.S3 (оксид вольфраму) погодинна усереднена відповідь датчика (номінально цільовий NOx)\n",
    "9. NO2(GT) - Справжня середньогодинна концентрація NO2 в мкг/м^3 (еталонний аналізатор)\n",
    "10. PT08.S4 (оксид вольфраму) погодинна усереднена відповідь датчика (номінально націлений NO2)\n",
    "11. PT08.S5 (оксид індію) усереднена за годину відповідь датчика (номінально цільовий O3)\n",
    "12. T - Температура в °C\n",
    "13. RH - Відносна вологість (%)\n",
    "14. AH - Абсолютна вологість\n",
    "\n"
   ]
  },
  {
   "cell_type": "markdown",
   "metadata": {
    "id": "fnH1AcozuNlp"
   },
   "source": [
    "# Ініціалізація середовища"
   ]
  },
  {
   "cell_type": "code",
   "metadata": {
    "id": "Grs8N6tIDYbT"
   },
   "source": [
    "# !pip install regressors"
   ],
   "outputs": [],
   "execution_count": null
  },
  {
   "cell_type": "code",
   "metadata": {
    "id": "CdKryVp4pSxd"
   },
   "source": [
    "# init environment\n",
    "from io import BytesIO\n",
    "from zipfile import ZipFile\n",
    "from urllib.request import urlopen\n",
    "\n",
    "import numpy as np\n",
    "import pandas as pd\n",
    "import scipy.stats as st\n",
    "import math\n",
    "import matplotlib.text as plttxt\n",
    "\n",
    "import matplotlib.pyplot as plt\n",
    "%matplotlib inline\n",
    "\n",
    "import seaborn as sns\n",
    "plt.style.use('bmh')\n",
    "\n",
    "from dateutil import parser\n",
    "\n",
    "from sklearn.linear_model import LinearRegression\n",
    "from sklearn.impute import SimpleImputer\n",
    "from sklearn.experimental import enable_iterative_imputer\n",
    "from sklearn.impute import IterativeImputer\n",
    "\n",
    "from sklearn.linear_model import BayesianRidge\n",
    "from sklearn.tree import DecisionTreeRegressor\n",
    "from sklearn.ensemble import ExtraTreesRegressor\n",
    "from sklearn.neighbors import KNeighborsRegressor\n",
    "from sklearn.pipeline import make_pipeline\n",
    "from sklearn.model_selection import cross_val_score\n",
    "\n",
    "from sklearn.preprocessing import StandardScaler\n",
    "from sklearn.compose import ColumnTransformer\n",
    "from sklearn.pipeline import Pipeline\n",
    "\n",
    "from sklearn.model_selection import train_test_split\n",
    "from sklearn.model_selection import TimeSeriesSplit\n",
    "from sklearn.preprocessing import PolynomialFeatures\n",
    "from sklearn.linear_model import Ridge, Lasso\n",
    "from sklearn.model_selection import GridSearchCV\n",
    "from sklearn.model_selection import cross_val_score\n",
    "from sklearn.model_selection import RepeatedKFold\n",
    "from sklearn.metrics import r2_score\n",
    "\n",
    "from sklearn.preprocessing import RobustScaler\n",
    "from sklearn.preprocessing import PolynomialFeatures\n",
    "from sklearn.preprocessing import Normalizer\n",
    "from sklearn.preprocessing import StandardScaler\n",
    "from sklearn.preprocessing import OneHotEncoder\n",
    "from sklearn.pipeline import make_pipeline\n",
    "from sklearn.model_selection import RepeatedKFold, cross_validate\n",
    "from sklearn.compose import TransformedTargetRegressor, make_column_transformer\n",
    "from sklearn.metrics import PredictionErrorDisplay, median_absolute_error, mean_absolute_error\n",
    "import scipy as sp\n",
    "from sklearn.linear_model import RidgeCV, LassoCV\n",
    "# from regressors.stats import coef_pval\n",
    "%matplotlib inline"
   ],
   "outputs": [],
   "execution_count": null
  },
  {
   "cell_type": "markdown",
   "metadata": {
    "id": "rMXBMZepuE01"
   },
   "source": [
    "# Зчитування і форматування даних"
   ]
  },
  {
   "cell_type": "code",
   "metadata": {
    "id": "G_OeiBSKrEvb"
   },
   "source": [
    "\n",
    "file_url = 'https://archive.ics.uci.edu/ml/machine-learning-databases/00360/AirQualityUCI.zip'\n",
    "resp = urlopen(file_url)\n",
    "zipfile = ZipFile(BytesIO(resp.read()))\n",
    "data = zipfile.open('AirQualityUCI.csv')\n",
    "df = pd.read_csv(data, sep=';')"
   ],
   "outputs": [],
   "execution_count": null
  },
  {
   "cell_type": "code",
   "source": [
    "from google.colab import drive\n",
    "drive.mount('/content/drive')"
   ],
   "metadata": {
    "colab": {
     "base_uri": "https://localhost:8080/"
    },
    "id": "qjnDo8RDfeU8",
    "outputId": "625e19f5-167e-4073-c38d-5dffa017a74a"
   },
   "outputs": [],
   "execution_count": null
  },
  {
   "cell_type": "code",
   "metadata": {
    "colab": {
     "base_uri": "https://localhost:8080/",
     "height": 181
    },
    "id": "JG_iBWPsrZcy",
    "outputId": "0ef9e0a7-3a41-4393-d224-c378721e7678"
   },
   "source": [
    "df.head(3)"
   ],
   "outputs": [],
   "execution_count": null
  },
  {
   "cell_type": "code",
   "metadata": {
    "colab": {
     "base_uri": "https://localhost:8080/"
    },
    "id": "_moImIGRxHAS",
    "outputId": "a45d7e0c-0431-4327-abc1-5149aadf6550"
   },
   "source": [
    "# check empty rows and drop them\n",
    "print('Initial shape: ' + str(df.shape))\n",
    "print(df[df['Date'].isnull()])\n",
    "df.dropna(how='all', inplace=True)\n",
    "print('Result shape: ' + str(df.shape))"
   ],
   "outputs": [],
   "execution_count": null
  },
  {
   "cell_type": "code",
   "metadata": {
    "colab": {
     "base_uri": "https://localhost:8080/"
    },
    "id": "dbacy6BNtlmX",
    "outputId": "9cd5b3b0-3268-4cc3-def8-11c84668ca1f"
   },
   "source": [
    "# check if the last 2 columns has values\n",
    "[df['Unnamed: 16'].unique(),  df['Unnamed: 16'].unique()]"
   ],
   "outputs": [],
   "execution_count": null
  },
  {
   "cell_type": "code",
   "metadata": {
    "colab": {
     "base_uri": "https://localhost:8080/",
     "height": 226
    },
    "id": "SqGuTMnluY5o",
    "outputId": "f5c7d90e-6eaf-40a8-8554-3f6e2ff568c3"
   },
   "source": [
    "# drop last 2 columns\n",
    "df.drop(['Unnamed: 15', 'Unnamed: 16'], axis=1, inplace=True)\n",
    "df.head()"
   ],
   "outputs": [],
   "execution_count": null
  },
  {
   "cell_type": "code",
   "metadata": {
    "colab": {
     "base_uri": "https://localhost:8080/",
     "height": 554
    },
    "id": "4luWdN-Jvdoq",
    "outputId": "6d7e8280-b04c-426c-8d91-f4dfc18b755b"
   },
   "source": [
    "# check data\n",
    "df.dtypes"
   ],
   "outputs": [],
   "execution_count": null
  },
  {
   "cell_type": "code",
   "source": [
    "df.info()"
   ],
   "metadata": {
    "colab": {
     "base_uri": "https://localhost:8080/"
    },
    "id": "GBhlHhikg-3n",
    "outputId": "1b7be772-921d-4089-dfda-fb374ee1a6c7"
   },
   "outputs": [],
   "execution_count": null
  },
  {
   "cell_type": "markdown",
   "metadata": {
    "id": "r_D7tSrEvfmL"
   },
   "source": [
    "Як бачимо частина параметрів, що мала б бути числовими, такими не є. Виправимо це."
   ]
  },
  {
   "cell_type": "code",
   "metadata": {
    "id": "tihVc1JEvp-D"
   },
   "source": [
    "df['DateTime'] = (df['Date'] + ' ' + df['Time'].str.replace('.', ':')).map(parser.parse)\n",
    "df['Date'] = df['Date'].map(parser.parse)\n",
    "df['Hour'] = df['Time'].map(lambda x: int(x[0:2]))\n",
    "df['C6H6(GT)'] = df['C6H6(GT)'].map(lambda x: float(x.replace(',','.')))\n",
    "df['CO(GT)'] = df['CO(GT)'].map(lambda x: float(x.replace(',','.')))\n",
    "df['T'] = df['T'].map(lambda x: float(x.replace(',','.')))\n",
    "df['RH'] = df['RH'].map(lambda x: float(x.replace(',','.')))\n",
    "df['AH'] = df['AH'].map(lambda x: float(x.replace(',','.')))"
   ],
   "outputs": [],
   "execution_count": null
  },
  {
   "cell_type": "code",
   "metadata": {
    "colab": {
     "base_uri": "https://localhost:8080/",
     "height": 617
    },
    "id": "v0WQyDy21Q0c",
    "outputId": "fc08cfdf-42cd-478b-b7a3-a30284ab62d8"
   },
   "source": [
    "df.dtypes"
   ],
   "outputs": [],
   "execution_count": null
  },
  {
   "cell_type": "code",
   "source": [
    "df.dtypes"
   ],
   "metadata": {
    "colab": {
     "base_uri": "https://localhost:8080/",
     "height": 617
    },
    "id": "25nHLCpGhOzH",
    "outputId": "3e1b563e-d264-4a55-8580-7fa398ad4516"
   },
   "outputs": [],
   "execution_count": null
  },
  {
   "cell_type": "markdown",
   "metadata": {
    "id": "KhIKheS2gPSp"
   },
   "source": [
    "Перевіримо основні статистики данних"
   ]
  },
  {
   "cell_type": "code",
   "metadata": {
    "colab": {
     "base_uri": "https://localhost:8080/",
     "height": 518
    },
    "id": "mkBkpf7put5G",
    "outputId": "452e5dc8-4c37-4d86-ed84-362db8201d4f"
   },
   "source": [
    "df.describe(include='all')"
   ],
   "outputs": [],
   "execution_count": null
  },
  {
   "cell_type": "markdown",
   "metadata": {
    "id": "z5oMVfNJgisd"
   },
   "source": [
    "За умовою, значення -200 - це пропущенні значення. Замінимо їх на nan"
   ]
  },
  {
   "cell_type": "code",
   "metadata": {
    "id": "KES9NYlzhcu8"
   },
   "source": [
    "df.replace(-200, np.nan, inplace=True)"
   ],
   "outputs": [],
   "execution_count": null
  },
  {
   "cell_type": "markdown",
   "metadata": {
    "id": "KWL45_AGht03"
   },
   "source": [
    "Перевіримо описові статистики"
   ]
  },
  {
   "cell_type": "code",
   "metadata": {
    "colab": {
     "base_uri": "https://localhost:8080/",
     "height": 424
    },
    "id": "5G-OUWMkhyV1",
    "outputId": "d3ef53a7-3ba3-4cf0-b7ba-3c21c78641c6"
   },
   "source": [
    "df.describe()"
   ],
   "outputs": [],
   "execution_count": null
  },
  {
   "cell_type": "markdown",
   "metadata": {
    "id": "uyUjNRJAiKXR"
   },
   "source": [
    "Перевіримо чи є порожні рядки (крім поля Hour)"
   ]
  },
  {
   "cell_type": "code",
   "source": [],
   "metadata": {
    "id": "767EIAB5iH4D"
   },
   "outputs": [],
   "execution_count": null
  },
  {
   "cell_type": "code",
   "metadata": {
    "colab": {
     "base_uri": "https://localhost:8080/",
     "height": 424
    },
    "id": "knSkj3oAiTGK",
    "outputId": "9974139a-5fd4-4d14-9b19-b92bed0c60e8"
   },
   "source": [
    "df.dropna(thresh=5, inplace=True)\n",
    "df.describe()"
   ],
   "outputs": [],
   "execution_count": null
  },
  {
   "cell_type": "code",
   "metadata": {
    "colab": {
     "base_uri": "https://localhost:8080/"
    },
    "id": "B8JYrqhgk9vs",
    "outputId": "d7da2fa9-bce3-474c-eee4-a3f1d460c60a"
   },
   "source": [
    "df.columns"
   ],
   "outputs": [],
   "execution_count": null
  },
  {
   "cell_type": "code",
   "source": [
    "\n",
    "plt.figure(figsize=(14, 6))\n",
    "sns.heatmap(df.isnull(), cbar=False, cmap='viridis', yticklabels=False)\n",
    "plt.title(\"Missing Values Heatmap\")\n",
    "plt.xlabel(\"Features (Columns)\")\n",
    "plt.ylabel(\"Rows\")\n",
    "plt.tight_layout()\n",
    "plt.show()\n"
   ],
   "metadata": {
    "colab": {
     "base_uri": "https://localhost:8080/",
     "height": 504
    },
    "id": "i_-c6aWHiLYD",
    "outputId": "53c030ab-3e33-4af9-c544-45976e448873"
   },
   "outputs": [],
   "execution_count": null
  },
  {
   "cell_type": "markdown",
   "source": [
    "На графіку показано наявність пропущених значень (NaN) у кожному стовпці  датасету.\n",
    "Жовті лінії позначають місця, де значення відсутні, а фіолетові — де значення є.\n",
    " Основні спостереження:\n",
    "Колонка NMHC(GT) має найбільше пропусків (~90%), що видно як суцільна жовта смуга → її слід видалити, оскільки вона майже не містить корисної інформації.\n",
    "\n",
    "Інші колонки, зокрема CO(GT), NOx(GT), NO2(GT) — мають помірну кількість пропусків (~17–18%), але вони містять важливу інформацію і можуть бути заповнені (імпутовані) медіаною.\n",
    "\n",
    "Деякі сенсорні дані (PT08.*) і метеопараметри (T, RH, AH) мають незначні пропуски (~3.5%) → не критично, легко обробляється.\n",
    "\n",
    "Графік допоміг визначити колонки, які варто видалити або обробити, щоб підвищити якість даних перед побудовою моделі.\n",
    "Це важливий етап у процесі підготовки даних (data preprocessing), оскільки моделі машинного навчання не працюють із NaN без попередньої обробки."
   ],
   "metadata": {
    "id": "aMZS29XYjkPk"
   }
  },
  {
   "cell_type": "code",
   "source": [
    "df.isnull().sum().sort_values(ascending=False)"
   ],
   "metadata": {
    "colab": {
     "base_uri": "https://localhost:8080/",
     "height": 617
    },
    "id": "WGysn8YTihNY",
    "outputId": "1061ae86-99ad-4f4a-b458-fb4b3caedc9c"
   },
   "outputs": [],
   "execution_count": null
  },
  {
   "cell_type": "markdown",
   "metadata": {
    "id": "vWqAvgu9nEjv"
   },
   "source": [
    "Перевіримо розподіли"
   ]
  },
  {
   "cell_type": "code",
   "metadata": {
    "colab": {
     "base_uri": "https://localhost:8080/",
     "height": 1000
    },
    "id": "OMbiLt04mSI5",
    "outputId": "147b4dec-4f88-4754-892a-d2ecea138b4d"
   },
   "source": [
    "dfm = np.log(df.iloc[:, 2:15]).melt(var_name='columns')\n",
    "g = sns.displot(data=dfm, x='value', col='columns', col_wrap=3, common_norm=False, kde=True, stat='density')"
   ],
   "outputs": [],
   "execution_count": null
  },
  {
   "cell_type": "markdown",
   "source": [
    "Ці графіки показали, що деякі ознаки мають скошений розподіл, а отже:\n",
    "\n",
    "Необхідно логарифмувати або нормалізувати деякі змінні (особливо цільову: C6H6(GT))\n",
    "\n",
    "Викиди є, але масштаб не критичний\n",
    "\n",
    "Сенсори (PT08.S*) добре підходять до моделі, бо мають стабільні розподіли\n",
    "\n",
    "Графіки допомагають приймати рішення про попередню обробку (preprocessing)"
   ],
   "metadata": {
    "id": "f1_EekS8mohA"
   }
  },
  {
   "cell_type": "code",
   "metadata": {
    "id": "suyQ2FfiigUY"
   },
   "source": [
    "df[\"CO(GT)\"] = df[\"CO(GT)\"].fillna(df[\"CO(GT)\"].median())"
   ],
   "outputs": [],
   "execution_count": null
  },
  {
   "cell_type": "code",
   "source": [],
   "metadata": {
    "id": "_baVGOrMnyVR"
   },
   "outputs": [],
   "execution_count": null
  },
  {
   "cell_type": "code",
   "metadata": {
    "colab": {
     "base_uri": "https://localhost:8080/",
     "height": 789
    },
    "id": "ZTY1U9PJkQGb",
    "outputId": "c022e097-bd71-4cbb-ef04-49b5f9a3c459"
   },
   "source": [
    "X = df.iloc[:, 2:15]\n",
    "print(X.info())\n",
    "imputer = SimpleImputer(missing_values=np.nan, strategy='median')\n",
    "imputer = imputer.fit(X)\n",
    "\n",
    "X = imputer.transform(X)\n",
    "df.iloc[:, 2:15] = X\n",
    "df.describe()"
   ],
   "outputs": [],
   "execution_count": null
  },
  {
   "cell_type": "markdown",
   "source": [
    "заповнен відсутні значення в основних числових колонках за допомогою медіани, оскільки деякі змінні мають асиметричний розподіл (наприклад, CO(GT), NOx(GT)).\n",
    "Медіана менш чутлива до викидів, ніж середнє, тому це дозволяє зберегти достовірність даних перед моделюванням.\n",
    "Після заповнення всі колонки мають однакову кількість рядків (count = 9326), що означає, що набір готовий до аналізу та побудови моделей."
   ],
   "metadata": {
    "id": "adJtmNgDp57h"
   }
  },
  {
   "cell_type": "code",
   "metadata": {
    "colab": {
     "base_uri": "https://localhost:8080/",
     "height": 1000
    },
    "id": "kDFKSc4DnbGv",
    "outputId": "4ec3d7d2-4f7a-4f6b-b22a-492c51c0f48c"
   },
   "source": [
    "dfm = np.log(df.iloc[:, 2:15]).melt(var_name='columns')\n",
    "g = sns.displot(data=dfm, x='value', col='columns', col_wrap=3, common_norm=False, kde=True, stat='density')"
   ],
   "outputs": [],
   "execution_count": null
  },
  {
   "cell_type": "markdown",
   "source": [
    "Для покращення статистичних властивостей ознак було застосовано логарифмічне перетворення числових змінних.\n",
    "Це дозволяє зменшити асиметрію розподілу, знизити вплив викидів та стабілізувати дисперсію, що в свою чергу сприяє покращенню якості побудови регресійних моделей і алгоритмів машинного навчання."
   ],
   "metadata": {
    "id": "r22y-H9HqduP"
   }
  },
  {
   "cell_type": "code",
   "metadata": {
    "colab": {
     "base_uri": "https://localhost:8080/",
     "height": 617
    },
    "id": "sP0CUv1bvF1G",
    "outputId": "0e552aad-bc9d-4dcc-d412-c8ceaed723bb"
   },
   "source": [
    "df.dtypes"
   ],
   "outputs": [],
   "execution_count": null
  },
  {
   "cell_type": "code",
   "metadata": {
    "colab": {
     "base_uri": "https://localhost:8080/",
     "height": 400
    },
    "id": "yLC8M3r9yJHh",
    "outputId": "84a12092-5543-449f-df7c-bbd96e0c72d0"
   },
   "source": [
    "df.head()"
   ],
   "outputs": [],
   "execution_count": null
  },
  {
   "cell_type": "markdown",
   "metadata": {
    "id": "sWkq8wGX1i6z"
   },
   "source": [
    "# EDA"
   ]
  },
  {
   "cell_type": "markdown",
   "metadata": {
    "id": "h0lsF20ko0cl"
   },
   "source": [
    "Визначемо цільовий та вхідні параметри. Цільовий C6H6(GT)."
   ]
  },
  {
   "cell_type": "code",
   "metadata": {
    "id": "IBgxqiuhvPly",
    "colab": {
     "base_uri": "https://localhost:8080/",
     "height": 1000
    },
    "outputId": "4ef90acf-8041-4af0-909b-e368905747ae"
   },
   "source": [
    "sns.pairplot(df)"
   ],
   "outputs": [],
   "execution_count": null
  },
  {
   "cell_type": "markdown",
   "source": [],
   "metadata": {
    "id": "o0ph8TtBvNbW"
   }
  },
  {
   "cell_type": "code",
   "source": [
    "sns.pairplot(df[[\"CO(GT)\", \"C6H6(GT)\", \"T\", \"AH\"]])\n"
   ],
   "metadata": {
    "colab": {
     "base_uri": "https://localhost:8080/",
     "height": 1000
    },
    "id": "l_nhSdX5rh9c",
    "outputId": "0ddd0682-336d-4f68-ef2c-842f14467cd4"
   },
   "outputs": [],
   "execution_count": null
  },
  {
   "cell_type": "markdown",
   "source": [
    "Для первинного аналізу було побудовано матрицю парних діаграм (pairplot) для основних змінних: CO(GT), C6H6(GT), температура (T) та відносна вологість (RH). Такий графік дозволяє візуально оцінити розподіли ознак та зв’язки між ними.\n",
    "\n",
    "Основні спостереження:\n",
    "Сильна позитивна кореляція між CO(GT) і C6H6(GT). Зі збільшенням концентрації оксиду вуглецю спостерігається зростання концентрації бензолу. Це може свідчити про спільне джерело забруднення, наприклад, транспорт.\n",
    "\n",
    "Розподіли CO(GT) і C6H6(GT) скошені вправо — більшість значень зосереджена в нижньому діапазоні, з наявністю окремих високих значень (викидів).\n",
    "\n",
    "Температура (T) і відносна вологість (RH) мають більш симетричні розподіли, що наближаються до нормальних.\n",
    "\n",
    "Негативна залежність між температурою і вологістю: зі зростанням температури відносна вологість зменшується, що узгоджується з фізичними закономірностями атмосферних процесів.\n",
    "\n",
    "Відсутність вираженої кореляції між CO(GT), C6H6(GT) та температурою або вологістю.\n",
    "\n",
    "Висновок:\n",
    "Отримані результати допомагають виділити змінні, які потенційно важливі для побудови моделей, а також звернути увагу на можливу мультиколінеарність, зокрема між CO та C6H6. Це слід враховувати при виборі ознак і типу моделі."
   ],
   "metadata": {
    "id": "kcd2-x_7ttGj"
   }
  },
  {
   "cell_type": "code",
   "source": [
    "# Створення кореляційної матриці для числових ознак\n",
    "corr_matrix = df.iloc[:, 2:15].corr()\n",
    "\n",
    "# Побудова теплової карти\n",
    "plt.figure(figsize=(12, 10))\n",
    "sns.heatmap(corr_matrix, annot=True, cmap='coolwarm', fmt=\".2f\", square=True, linewidths=0.5)\n",
    "plt.title(\"Кореляційна матриця числових змінних\")\n",
    "plt.show()\n"
   ],
   "metadata": {
    "colab": {
     "base_uri": "https://localhost:8080/",
     "height": 937
    },
    "id": "rDp_ocyhvQto",
    "outputId": "8c6b2d7f-0dbe-47bb-e722-45f3c6efd01c"
   },
   "outputs": [],
   "execution_count": null
  },
  {
   "cell_type": "markdown",
   "source": [
    "### Кореляційний аналіз змінних\n",
    "\n",
    "Побудувана кореляційна матриця для числових змінних, виділено найбільш корельовані пари. Це дозволяє:\n",
    "\n",
    "-  **Виявити сильні зв’язки між ознаками**;\n",
    "-  **Зменшити кількість зайвих (схожих) змінних**;\n",
    "-  **Підвищити якість моделі, уникнувши мультиколінеарності**.\n",
    "\n",
    "---\n",
    "\n",
    "####  Найсильніші корельовані пари:\n",
    "\n",
    "| Змінна 1         | Змінна 2          | Кореляція |\n",
    "|------------------|-------------------|------------|\n",
    "| C6H6(GT)         | PT08.S2(NMHC)     | **0.98**   |\n",
    "| PT08.S1(CO)      | PT08.S2(NMHC)     | **0.89**   |\n",
    "| C6H6(GT)         | PT08.S5(O3)       | **0.87**   |\n",
    "| CO(GT)           | C6H6(GT)          | **0.81**   |\n",
    "| PT08.S3(NOx)     | PT08.S5(O3)       | **-0.80**  |\n",
    "\n",
    "---\n",
    "\n",
    "###  Висновок:\n",
    "\n",
    "Цей аналіз допомагає відібрати **найінформативніші ознаки** та **уникнути дублювання змінних**, що важливо для побудови ефективної моделі.\n"
   ],
   "metadata": {
    "id": "Hohs6CWVxJm1"
   }
  },
  {
   "cell_type": "code",
   "metadata": {
    "colab": {
     "base_uri": "https://localhost:8080/",
     "height": 513
    },
    "id": "qImBkjpOImF3",
    "outputId": "2cff89d1-d6fe-40d1-e0d5-ab2ae5aa4183"
   },
   "source": [
    "sns.set(rc={'figure.figsize':(5,5)})\n",
    "plot_co = sns.scatterplot(data=df.loc[:, ['CO(GT)', 'C6H6(GT)']],\n",
    "                          x='CO(GT)',\n",
    "                          y='C6H6(GT)')\n",
    "plot_co.set_title('The relationship between CO(GT) x, C6H6(GT) y')"
   ],
   "outputs": [],
   "execution_count": null
  },
  {
   "cell_type": "code",
   "metadata": {
    "colab": {
     "base_uri": "https://localhost:8080/",
     "height": 536
    },
    "id": "P7JOz0RDuuiH",
    "outputId": "3c4a85cc-b865-4c78-ac5d-8d6ffdda3811"
   },
   "source": [
    "colname=\"NO2(GT)\"\n",
    "col_sd = df[colname].std()\n",
    "col_mean = df[colname].mean()\n",
    "x = (df[colname] - col_mean)/col_sd\n",
    "print(col_sd)\n",
    "sns.displot(x=x, kde=True, stat='density', )"
   ],
   "outputs": [],
   "execution_count": null
  },
  {
   "cell_type": "code",
   "metadata": {
    "colab": {
     "base_uri": "https://localhost:8080/",
     "height": 994
    },
    "id": "oeG-Kf74wXWx",
    "outputId": "e87cfaf8-3f1a-49d9-da87-43391bb90b11"
   },
   "source": [
    "df[x > 4]"
   ],
   "outputs": [],
   "execution_count": null
  },
  {
   "cell_type": "code",
   "metadata": {
    "id": "IA0oxZvU0DJ8"
   },
   "source": [
    "quantile = df[colname].quantile([0.75])\n",
    "df.loc[x > 4, [colname]] = quantile.iloc[0]"
   ],
   "outputs": [],
   "execution_count": null
  },
  {
   "cell_type": "code",
   "metadata": {
    "colab": {
     "base_uri": "https://localhost:8080/",
     "height": 400
    },
    "id": "gygl0SINNPHh",
    "outputId": "2c69a2bd-c8e9-4f6c-9aaf-7df9ffb2322e"
   },
   "source": [
    "df.head()"
   ],
   "outputs": [],
   "execution_count": null
  },
  {
   "cell_type": "markdown",
   "metadata": {
    "id": "J2ldoxrgwqYM"
   },
   "source": [
    "# Feature Engineering"
   ]
  },
  {
   "cell_type": "markdown",
   "metadata": {
    "id": "2w68TkrE8iRO"
   },
   "source": [
    "Цікавий факт: PT08.S2(NMHC) має дуже сильний квадратичний або\n",
    "\n",
    "---\n",
    "\n",
    "експоненціальний звязок з C6H6(GT). <br>"
   ]
  },
  {
   "cell_type": "code",
   "metadata": {
    "colab": {
     "base_uri": "https://localhost:8080/",
     "height": 486
    },
    "id": "L7g8WVU5-aH8",
    "outputId": "b189a980-0263-41cc-864b-93854031bd44"
   },
   "source": [
    "sns.scatterplot(x = df['PT08.S2(NMHC)'], y = df['C6H6(GT)'])"
   ],
   "outputs": [],
   "execution_count": null
  },
  {
   "cell_type": "code",
   "metadata": {
    "colab": {
     "base_uri": "https://localhost:8080/",
     "height": 486
    },
    "id": "9SjNq7azALDV",
    "outputId": "ee6839ec-bed9-472b-d455-b183958fbc13"
   },
   "source": [
    "sns.scatterplot(x = df['PT08.S2(NMHC)']**2, y = df['C6H6(GT)'])"
   ],
   "outputs": [],
   "execution_count": null
  },
  {
   "cell_type": "markdown",
   "metadata": {
    "id": "ZcHZGvI8-kKz"
   },
   "source": [
    "Давайте перевіримо кореляцію Пірсона і її p-values для квадрату PT08.S2(NMHC) і C6H6(GT)"
   ]
  },
  {
   "cell_type": "code",
   "metadata": {
    "colab": {
     "base_uri": "https://localhost:8080/"
    },
    "id": "iXBbvpzF_gl9",
    "outputId": "1cbda450-0be3-40de-969a-416ddf7328bf"
   },
   "source": [
    "st.pearsonr(df['PT08.S2(NMHC)']**2, df['C6H6(GT)'])"
   ],
   "outputs": [],
   "execution_count": null
  },
  {
   "cell_type": "markdown",
   "metadata": {
    "id": "4TM73a3U_zOj"
   },
   "source": [
    "Як бачимо, маємо майже лінійну залежність і p-value = 0, що означає, що цей звязок є значущим і лінійним. <br>\n",
    "Згідно з вигомами відсутності мультиколінеарності ми не можемо використовувати квадрат PT08.S2(NMHC)<br>\n",
    "В іншому випадку нам достатньо лише цього параметру, щоб прогнозувати C6H6(GT) чи наш y."
   ]
  },
  {
   "cell_type": "code",
   "source": [
    "import pandas as pd\n",
    "import numpy as np\n",
    "from scipy.stats import pearsonr\n",
    "\n",
    "# Вибираємо тільки числові колонки\n",
    "numeric_cols = df.select_dtypes(include=np.number).columns\n",
    "\n",
    "# Порожній список для збереження результатів\n",
    "results = []\n",
    "\n",
    "# Перебираємо всі пари X і Y, де X ≠ Y\n",
    "for col_x in numeric_cols:\n",
    "    for col_y in numeric_cols:\n",
    "        if col_x != col_y:\n",
    "            x_squared = df[col_x] ** 2\n",
    "            y = df[col_y]\n",
    "\n",
    "            # Вилучаємо NaN\n",
    "            mask = (~x_squared.isna()) & (~y.isna())\n",
    "            if mask.sum() > 2:\n",
    "                r, p = pearsonr(x_squared[mask], y[mask])\n",
    "                results.append({\n",
    "                    'X': col_x,\n",
    "                    'Y': col_y,\n",
    "                    'Corr(X², Y)': r,\n",
    "                    'p-value': p\n",
    "                })\n",
    "\n",
    "# Перетворюємо в датафрейм\n",
    "results_df = pd.DataFrame(results)\n",
    "\n",
    "\n",
    "# Вивід результату\n",
    "print(results_df.sort_values(by='Corr(X², Y)', ascending=False).head(10))\n"
   ],
   "metadata": {
    "colab": {
     "base_uri": "https://localhost:8080/"
    },
    "id": "xa48-nPX0Gk8",
    "outputId": "448614e5-12ba-4c56-9e2a-582ab86c3411"
   },
   "outputs": [],
   "execution_count": null
  },
  {
   "cell_type": "markdown",
   "metadata": {
    "id": "cjsV5Z4HAtJ5"
   },
   "source": [
    "Додамо день тижня"
   ]
  },
  {
   "cell_type": "code",
   "source": [
    "results_df.sort_values(by='Corr(X², Y)', ascending=False).head(20)\n"
   ],
   "metadata": {
    "colab": {
     "base_uri": "https://localhost:8080/",
     "height": 677
    },
    "outputId": "dc702874-c7b5-44ea-b079-3f3e98be8a2e",
    "id": "K0kY44Vc2EEf"
   },
   "outputs": [],
   "execution_count": null
  },
  {
   "cell_type": "code",
   "source": [
    "import pandas as pd\n",
    "import numpy as np\n",
    "import matplotlib.pyplot as plt\n",
    "from sklearn.linear_model import LinearRegression\n",
    "from scipy.stats import pearsonr\n",
    "\n",
    "top3 = [\n",
    "    ('PT08.S2(NMHC)', 'C6H6(GT)'),\n",
    "    ('PT08.S1(CO)', 'C6H6(GT)'),\n",
    "    ('PT08.S1(CO)', 'PT08.S5(O3)')\n",
    "]\n",
    "\n",
    "fig, axes = plt.subplots(1, 3, figsize=(18, 5))\n",
    "\n",
    "for i, (x_col, y_col) in enumerate(top3):\n",
    "    x = df[x_col] ** 2\n",
    "    y = df[y_col]\n",
    "    mask = (~x.isna()) & (~y.isna())\n",
    "    axes[i].scatter(x[mask], y[mask], alpha=0.5)\n",
    "    axes[i].set_xlabel(f'{x_col}²')\n",
    "    axes[i].set_ylabel(y_col)\n",
    "    axes[i].set_title(f'{x_col}² vs {y_col}')\n",
    "\n",
    "plt.tight_layout()\n",
    "plt.show()\n",
    "\n",
    "# Тестуємо лінійну модель: PT08.S2(NMHC)² → C6H6(GT)\n",
    "x = df['PT08.S2(NMHC)'] ** 2\n",
    "y = df['C6H6(GT)']\n",
    "mask = (~x.isna()) & (~y.isna())\n",
    "x_reshaped = x[mask].values.reshape(-1, 1)\n",
    "y_values = y[mask].values\n",
    "\n",
    "model = LinearRegression()\n",
    "model.fit(x_reshaped, y_values)\n",
    "\n",
    "# Результати моделі\n",
    "r2 = model.score(x_reshaped, y_values)\n",
    "coef = model.coef_[0]\n",
    "intercept = model.intercept_\n",
    "\n",
    "print(f\"R² = {r2:.4f}\")\n",
    "print(f\"Коефіцієнт нахилу (slope): {coef:.4f}\")\n",
    "print(f\"Вільний член (intercept): {intercept:.4f}\")\n"
   ],
   "metadata": {
    "colab": {
     "base_uri": "https://localhost:8080/",
     "height": 573
    },
    "id": "WoWU3x2S2wBx",
    "outputId": "a04d4325-f3c8-4e27-bd6f-86888cb1bc9e"
   },
   "outputs": [],
   "execution_count": null
  },
  {
   "cell_type": "markdown",
   "source": [
    "PT08.S2(NMHC)²має майже ідеальний лінійний зв'язок з C6H6(GT)\n",
    "\n",
    "Це свідчить про дуже сильну залежність, яка може бути використана в якості єдиного предиктора в моделі.\n",
    "\n",
    "PT08.S1(CO)² також корелює з C6H6(GT)\n",
    "\n",
    "Зв'язок сильний, але менш чіткий, з більшим розсіюванням.\n",
    "\n",
    "PT08.S1(CO)² має сильний зв’язок з PT08.S5(O3)\n",
    "\n",
    "Можна використати для побудови моделі, проте можливі нелінійності.\n",
    "\n",
    "Висновок:\n",
    "\n",
    "Квадрати деяких змінних дозволяють виявити приховані лінійні залежності, що покращує вибір ознак для майбутнього моделювання."
   ],
   "metadata": {
    "id": "7lEztGKd3e2O"
   }
  },
  {
   "cell_type": "code",
   "metadata": {
    "id": "hxGdcMGWAGZX"
   },
   "source": [
    "df['Weekday'] = df['Date'].dt.dayofweek"
   ],
   "outputs": [],
   "execution_count": null
  },
  {
   "cell_type": "code",
   "metadata": {
    "colab": {
     "base_uri": "https://localhost:8080/",
     "height": 508
    },
    "id": "mDJATgm9EBty",
    "outputId": "9ba54df9-e367-4f41-9179-cf159e7ef493"
   },
   "source": [
    "colname = \"Weekday\"\n",
    "print(st.pearsonr(df[colname], df['C6H6(GT)']))\n",
    "sns.boxplot(x = df[colname], y = df['C6H6(GT)'])"
   ],
   "outputs": [],
   "execution_count": null
  },
  {
   "cell_type": "code",
   "source": [
    "print(st.pearsonr(df[colname], df['C6H6(GT)']))\n"
   ],
   "metadata": {
    "colab": {
     "base_uri": "https://localhost:8080/"
    },
    "id": "spc5LRzi4qNH",
    "outputId": "01f1bfb8-e34d-4377-ff9d-b515fc630e94"
   },
   "outputs": [],
   "execution_count": null
  },
  {
   "cell_type": "markdown",
   "source": [
    "Значення -0.123 означає слабку, але статистично значущу від’ємну кореляцію.\n",
    "\n",
    "Тобто: чим ближче до кінця тижня (субота-неділя), тим нижча середня концентрація бензолу."
   ],
   "metadata": {
    "id": "gE_uJR6A5BJY"
   }
  },
  {
   "cell_type": "markdown",
   "metadata": {
    "id": "SQEPrTi2A1CT"
   },
   "source": [
    "Додамо револьверний індекс дня тижня"
   ]
  },
  {
   "cell_type": "code",
   "metadata": {
    "id": "ijys0a6VA0T8"
   },
   "source": [
    "df['Weekday_revo'] = abs(3 - df['Date'].dt.dayofweek)"
   ],
   "outputs": [],
   "execution_count": null
  },
  {
   "cell_type": "markdown",
   "source": [
    "Цей підхід перетворює тиждень у симетричну шкалу навколо середи:\n",
    "\n",
    "Середа → abs(3 - 3) = 0\n",
    "\n",
    "Вівторок і четвер → abs(3 - 2) = 1, abs(3 - 4) = 1\n",
    "\n",
    "Понеділок і п’ятниця → 2\n",
    "\n",
    "Субота і неділя → 3\n",
    "\n",
    "Якщо припустити, що забруднення найбільше в середині тижня, ми можемо перевірити цю гіпотезу.\n",
    "\n",
    "Потім можна побудувати графік або виконати регресію, щоб побачити, чи справді концентрація, наприклад, C6H6(GT) зменшується в міру віддалення від середи."
   ],
   "metadata": {
    "id": "UEr6KZNe50IL"
   }
  },
  {
   "cell_type": "markdown",
   "metadata": {
    "id": "Z_cfiQ8PBQu4"
   },
   "source": [
    "Додамо місяць"
   ]
  },
  {
   "cell_type": "code",
   "metadata": {
    "id": "9LbOHTSWBVDb"
   },
   "source": [
    "df['Month'] = df['Date'].dt.month"
   ],
   "outputs": [],
   "execution_count": null
  },
  {
   "cell_type": "code",
   "source": [
    "# Створення колонки \"Season\"\n",
    "def get_season(month):\n",
    "    if month in [12, 1, 2]:\n",
    "        return 'Winter'\n",
    "    elif month in [3, 4, 5]:\n",
    "        return 'Spring'\n",
    "    elif month in [6, 7, 8]:\n",
    "        return 'Summer'\n",
    "    else:\n",
    "        return 'Autumn'\n",
    "\n",
    "df['Season'] = df['Month'].apply(get_season)\n"
   ],
   "metadata": {
    "id": "0oX-ukFW6suL"
   },
   "outputs": [],
   "execution_count": null
  },
  {
   "cell_type": "code",
   "metadata": {
    "colab": {
     "base_uri": "https://localhost:8080/"
    },
    "outputId": "422d6afc-1df8-4d23-b05c-49da4af4590d",
    "id": "0m9PgHPf7RGN"
   },
   "source": [
    "df.columns"
   ],
   "outputs": [],
   "execution_count": null
  },
  {
   "cell_type": "code",
   "source": [
    "df['sin_hour'] = np.sin(2 * np.pi * df['Hour']/24)\n",
    "df['cos_hour'] = np.cos(2 * np.pi * df['Hour']/24)\n"
   ],
   "metadata": {
    "id": "En5CpJp08JFe"
   },
   "outputs": [],
   "execution_count": null
  },
  {
   "cell_type": "code",
   "source": [
    "df['dew_point'] = df['T'] - ((100 - df['RH']) / 5)\n"
   ],
   "metadata": {
    "id": "U_0QdVKQ8XDj"
   },
   "outputs": [],
   "execution_count": null
  },
  {
   "cell_type": "code",
   "source": [
    "df['C6H6_roll3'] = df['C6H6(GT)'].rolling(window=3).mean()\n"
   ],
   "metadata": {
    "id": "mecLZXX18cyP"
   },
   "outputs": [],
   "execution_count": null
  },
  {
   "cell_type": "code",
   "source": [
    "df['C6H6_lag1'] = df['C6H6(GT)'].shift(1)"
   ],
   "metadata": {
    "id": "IxF6jPiz8nJ2"
   },
   "outputs": [],
   "execution_count": null
  },
  {
   "cell_type": "code",
   "metadata": {
    "colab": {
     "base_uri": "https://localhost:8080/"
    },
    "outputId": "d4fa454b-e972-46e3-9035-1db7aa1ff150",
    "id": "sgGjXw0J8xaT"
   },
   "source": [
    "df.columns"
   ],
   "outputs": [],
   "execution_count": null
  },
  {
   "cell_type": "code",
   "source": [
    "df.isnull().sum().sort_values(ascending=False)"
   ],
   "metadata": {
    "colab": {
     "base_uri": "https://localhost:8080/",
     "height": 899
    },
    "id": "1PE7krsj_9Uo",
    "outputId": "88726a1e-6b84-4c74-d829-102a20ff692c"
   },
   "outputs": [],
   "execution_count": null
  },
  {
   "cell_type": "code",
   "source": [],
   "metadata": {
    "id": "elSaBea2AVvM"
   },
   "outputs": [],
   "execution_count": null
  },
  {
   "cell_type": "code",
   "source": [
    "df = df.dropna(subset=['C6H6_roll3', 'C6H6_lag1'])"
   ],
   "metadata": {
    "id": "QUtYVombASop"
   },
   "outputs": [],
   "execution_count": null
  },
  {
   "cell_type": "code",
   "source": [
    "df.isnull().sum().sort_values(ascending=False)"
   ],
   "metadata": {
    "colab": {
     "base_uri": "https://localhost:8080/",
     "height": 899
    },
    "id": "-1E7ZH36AX9B",
    "outputId": "c5da6542-4940-4975-ab5a-78a575cb97af"
   },
   "outputs": [],
   "execution_count": null
  },
  {
   "cell_type": "code",
   "source": [
    "\n"
   ],
   "metadata": {
    "id": "nTBEwwsy-y-k"
   },
   "outputs": [],
   "execution_count": null
  },
  {
   "cell_type": "markdown",
   "metadata": {
    "id": "LRe1SKTtHAjt"
   },
   "source": [
    "# Побудуємо моделі"
   ]
  },
  {
   "cell_type": "code",
   "metadata": {
    "id": "AiBAv8UkEf3S"
   },
   "source": [
    "Y_df = df[\"C6H6(GT)\"]\n",
    "#  Skip \"PT08.S2(NMHC)\" as it has functional dependency on with the dependent variable \"C6H6(GT)\"\n",
    "X_df = df.drop(labels=['C6H6(GT)', 'PT08.S2(NMHC)', 'Date', 'Time', 'DateTime'], inplace=False, axis=1)\n",
    "X_df_c = X_df.copy()\n"
   ],
   "outputs": [],
   "execution_count": null
  },
  {
   "cell_type": "code",
   "source": [],
   "metadata": {
    "id": "B1qVCgaHFzpK"
   },
   "outputs": [],
   "execution_count": null
  },
  {
   "cell_type": "code",
   "source": [
    "# Кодування колонки 'Season'\n",
    "X_df_encoded = pd.get_dummies(X_df, columns=['Season'], drop_first=True)"
   ],
   "metadata": {
    "id": "3LeoQHYSF0oy"
   },
   "outputs": [],
   "execution_count": null
  },
  {
   "cell_type": "code",
   "metadata": {
    "id": "aiczK6oKAnBR"
   },
   "source": [
    "# split the data\n",
    "X_train, X_test, y_train, y_test = train_test_split(X_df_encoded, Y_df, random_state=42)"
   ],
   "outputs": [],
   "execution_count": null
  },
  {
   "cell_type": "code",
   "metadata": {
    "id": "Ql0vsIbR0DKE"
   },
   "source": [
    "# define model\n",
    "preprocessor = make_column_transformer(\n",
    "\n",
    "    (Normalizer(), []), # do nothing with the data trasformation\n",
    "    remainder=\"passthrough\",\n",
    "    verbose_feature_names_out=False,  # avoid to prepend the preprocessor names\n",
    ")\n",
    "\n",
    "model = make_pipeline(\n",
    "    preprocessor,\n",
    "    TransformedTargetRegressor(\n",
    "        regressor=LinearRegression() # simple linear regression model, do nothing with the dependent variable\n",
    "    ),\n",
    ")"
   ],
   "outputs": [],
   "execution_count": null
  },
  {
   "cell_type": "code",
   "source": [
    "# Кодування колонки 'Season'\n",
    "X_df_encoded = pd.get_dummies(X_df, columns=['Season'], drop_first=True)\n",
    "\n",
    "# Тепер заміни X_df на X_df_encoded\n",
    "scores = cross_val_score(model, X_df_encoded, Y_df, scoring='neg_mean_absolute_error', cv=cv, n_jobs=-1)\n",
    "\n",
    "# Отримаємо абсолютне MAE\n",
    "scores = np.abs(scores)\n",
    "print(f\"Середній MAE: {scores.mean():.3f} (+/- {scores.std():.3f})\")"
   ],
   "metadata": {
    "colab": {
     "base_uri": "https://localhost:8080/"
    },
    "id": "RNHmPSIzBdzi",
    "outputId": "d13e0b33-43da-4e39-c66f-2947823d3f8a"
   },
   "outputs": [],
   "execution_count": null
  },
  {
   "cell_type": "code",
   "metadata": {
    "colab": {
     "base_uri": "https://localhost:8080/"
    },
    "id": "MNcfKSn1LTkp",
    "outputId": "8ab581cb-2224-43fc-96f2-e8beda3f3d8a"
   },
   "source": [
    "# define model evaluation method\n",
    "cv = RepeatedKFold(n_splits=10, n_repeats=3, random_state=1)\n",
    "# evaluate model\n",
    "scores = cross_val_score(model, X_df_encoded, Y_df, scoring='neg_mean_absolute_error', cv=cv, n_jobs=-1)\n",
    "# force scores to be positive\n",
    "scores = np.absolute(scores)\n",
    "print('Mean MAE: %.3f (%.3f)' % (np.mean(scores), np.std(scores)))"
   ],
   "outputs": [],
   "execution_count": null
  },
  {
   "cell_type": "markdown",
   "source": [
    " Результат моделі:\n",
    "Середнє абсолютне відхилення (MAE) склало 1.281 (±0.032)\n",
    "\n",
    "Це означає, що в середньому модель помиляється на 1.28 одиниці при прогнозуванні концентрації бензолу C6H6(GT)."
   ],
   "metadata": {
    "id": "_OsCrG3qDcp5"
   }
  },
  {
   "cell_type": "code",
   "metadata": {
    "id": "8skavJhM0DKE"
   },
   "source": [
    "#To improve mode performance, we can use a normalization and apply log to the target variable to turn it approximately into a normal distribution\n",
    "# define model\n",
    "preprocessor = make_column_transformer(\n",
    "    (Normalizer(), X_df_encoded.columns), # normalize all features\n",
    "    remainder=\"passthrough\",\n",
    "    verbose_feature_names_out=False,  # avoid to prepend the preprocessor names\n",
    ")\n",
    "\n",
    "model = make_pipeline(\n",
    "    preprocessor,\n",
    "    TransformedTargetRegressor(\n",
    "        regressor=LinearRegression(), func=np.log10, inverse_func=sp.special.exp10 # apply log to target variable to turn it approximately into a normal distribution\n",
    "    ),\n",
    ")"
   ],
   "outputs": [],
   "execution_count": null
  },
  {
   "cell_type": "code",
   "metadata": {
    "id": "flCB8W7O0DKE",
    "outputId": "6179e538-08ca-4760-cb36-a9b0584fac3e",
    "colab": {
     "base_uri": "https://localhost:8080/"
    }
   },
   "source": [
    "# define model evaluation method\n",
    "cv = RepeatedKFold(n_splits=10, n_repeats=3, random_state=1)\n",
    "# evaluate model\n",
    "scores = cross_val_score(model, X_df_encoded, Y_df, scoring='neg_mean_absolute_error', cv=cv, n_jobs=-1)\n",
    "# force scores to be positive\n",
    "scores = np.absolute(scores)\n",
    "print('Mean MAE: %.3f (%.3f)' % (np.mean(scores), np.std(scores)))"
   ],
   "outputs": [],
   "execution_count": null
  },
  {
   "cell_type": "markdown",
   "source": [
    "Трансформація np.log10(y) покращила модель, якщо раніше MAE було, наприклад, 1.28 (як у попередньому запуску).\n",
    "\n",
    "тепер середня абсолютна помилка (MAE) ≈ 1.013\n"
   ],
   "metadata": {
    "id": "DC0aIIy_DyTE"
   }
  },
  {
   "cell_type": "markdown",
   "metadata": {
    "id": "9NdAFbjL0DKE"
   },
   "source": [
    "↑ We got a little improvement in the model performance. I don't what to do more for improving the model performance."
   ]
  },
  {
   "cell_type": "code",
   "metadata": {
    "id": "hFkQK5OQ0DKF"
   },
   "source": [
    "# define model\n",
    "preprocessor = make_column_transformer(\n",
    "\n",
    "    (Normalizer(), []), # do nothing with the data trasformation\n",
    "    remainder=\"passthrough\",\n",
    "    verbose_feature_names_out=False,  # avoid to prepend the preprocessor names\n",
    ")\n",
    "\n",
    "model_lasso = make_pipeline(\n",
    "    preprocessor,\n",
    "    TransformedTargetRegressor(\n",
    "        regressor=Lasso(alpha=1.0) # simple linear regression model, do nothing with the dependent variable\n",
    "    ),\n",
    ")"
   ],
   "outputs": [],
   "execution_count": null
  },
  {
   "cell_type": "code",
   "metadata": {
    "id": "t0_Yghc00DKF",
    "outputId": "a4b97093-2ee4-4b85-fcb3-4d0072fa994c",
    "colab": {
     "base_uri": "https://localhost:8080/"
    }
   },
   "source": [
    "# define model evaluation method\n",
    "cv = RepeatedKFold(n_splits=10, n_repeats=3, random_state=1)\n",
    "# evaluate model\n",
    "scores = cross_val_score(model_lasso, X_df_encoded, Y_df, scoring='neg_mean_absolute_error', cv=cv, n_jobs=-1)\n",
    "# force scores to be positive\n",
    "scores = np.absolute(scores)\n",
    "print('Mean MAE: %.3f (%.3f)' % (np.mean(scores), np.std(scores)))"
   ],
   "outputs": [],
   "execution_count": null
  },
  {
   "cell_type": "markdown",
   "metadata": {
    "id": "DlKXbeb30DKF"
   },
   "source": [
    "Models such as ridge or lasso work best for a normal distribution of error."
   ]
  },
  {
   "cell_type": "code",
   "metadata": {
    "id": "0j_ErwEQ0DKF",
    "outputId": "91f29ab6-2431-4562-804c-5cdebc9f17bf",
    "colab": {
     "base_uri": "https://localhost:8080/"
    }
   },
   "source": [
    "alphas = np.logspace(-10, 10, 21)\n",
    "\n",
    "preprocessor = make_column_transformer(\n",
    "    (Normalizer(), X_df_encoded.columns), #\n",
    "    remainder=\"passthrough\",\n",
    "    verbose_feature_names_out=False,  # avoid to prepend the preprocessor names\n",
    ")\n",
    "\n",
    "model = make_pipeline(\n",
    "    preprocessor,\n",
    "    TransformedTargetRegressor(\n",
    "        regressor=LassoCV(alphas=alphas),\n",
    "        func=np.log10,\n",
    "       inverse_func=sp.exp10),\n",
    ")\n",
    "\n",
    "model.fit(X_train, y_train)\n",
    "model[-1].regressor_.alpha_"
   ],
   "outputs": [],
   "execution_count": null
  },
  {
   "cell_type": "code",
   "source": [
    "from sklearn.preprocessing import StandardScaler\n",
    "from sklearn.linear_model import LassoCV\n",
    "from sklearn.compose import make_column_transformer\n",
    "from sklearn.pipeline import make_pipeline\n",
    "from sklearn.compose import TransformedTargetRegressor\n",
    "from sklearn.model_selection import train_test_split\n",
    "import numpy as np\n",
    "import scipy.special as sp\n",
    "\n",
    "# Створюємо діапазон значень alpha\n",
    "alphas = np.logspace(-10, 10, 21)\n",
    "\n",
    "# Масштабування ознак\n",
    "preprocessor = make_column_transformer(\n",
    "    (StandardScaler(), X_df_encoded.columns),\n",
    "    remainder=\"passthrough\",\n",
    "    verbose_feature_names_out=False\n",
    ")\n",
    "\n",
    "# Побудова моделі\n",
    "model = make_pipeline(\n",
    "    preprocessor,\n",
    "    TransformedTargetRegressor(\n",
    "        regressor=LassoCV(alphas=alphas, max_iter=20_000),\n",
    "        func=np.log10,\n",
    "        inverse_func=sp.exp10\n",
    "    )\n",
    ")\n",
    "\n",
    "# Навчання\n",
    "model.fit(X_train, y_train)\n",
    "\n",
    "# Вивід найкращого alpha\n",
    "print(\"Найкраще alpha:\", model[-1].regressor_.alpha_)\n"
   ],
   "metadata": {
    "colab": {
     "base_uri": "https://localhost:8080/"
    },
    "id": "Xx3-W_W8JCue",
    "outputId": "4892fa37-e31e-422e-923b-4694e06d9945"
   },
   "outputs": [],
   "execution_count": null
  },
  {
   "cell_type": "markdown",
   "source": [
    "Найкраще alpha = 1e-10 означає, що модель фактично не потребує жорсткої регуляризації — вона вже добре підлаштовується під дані.\n",
    "Проте варто слідкувати за переобученням або спробувати менший діапазон alphas."
   ],
   "metadata": {
    "id": "14mXL1DyMYrr"
   }
  },
  {
   "cell_type": "markdown",
   "metadata": {
    "id": "_MfZyCcA0DKF"
   },
   "source": [
    "LassoCV applies cross validation in order to determine which value of the regularization parameter (alpha) is best suited for prediction.\n",
    "In our case, the best alpha is 1e-08. if we use model as Lasso(alpha=1e-08) we should get better results than using Lasso(alpha=1.0)"
   ]
  },
  {
   "cell_type": "code",
   "metadata": {
    "id": "BEANv_V80DKF"
   },
   "source": [
    "# define model\n",
    "preprocessor = make_column_transformer(\n",
    "\n",
    "    (Normalizer(), []), # do nothing with the data trasformation\n",
    "    remainder=\"passthrough\",\n",
    "    verbose_feature_names_out=False,  # avoid to prepend the preprocessor names\n",
    ")\n",
    "\n",
    "model_lasso = make_pipeline(\n",
    "    preprocessor,\n",
    "    TransformedTargetRegressor(\n",
    "        regressor=Lasso(alpha=9.999999999999999e-11) # simple linear regression model, do nothing with the dependent variable\n",
    "    ),\n",
    ")"
   ],
   "outputs": [],
   "execution_count": null
  },
  {
   "cell_type": "code",
   "metadata": {
    "id": "RAQwenrM0DKF",
    "outputId": "9cb740d9-f22e-40dc-e1f1-b86ce088f3a6",
    "colab": {
     "base_uri": "https://localhost:8080/"
    }
   },
   "source": [
    "# define model evaluation method\n",
    "cv = RepeatedKFold(n_splits=10, n_repeats=3, random_state=1)\n",
    "# evaluate model\n",
    "scores = cross_val_score(model_lasso, X_df_encoded, Y_df, scoring='neg_mean_absolute_error', cv=cv, n_jobs=-1)\n",
    "# force scores to be positive\n",
    "scores = np.absolute(scores)\n",
    "print('Mean MAE: %.3f (%.3f)' % (np.mean(scores), np.std(scores)))"
   ],
   "outputs": [],
   "execution_count": null
  },
  {
   "cell_type": "code",
   "metadata": {
    "id": "ZEsodDEs0DKF",
    "outputId": "dd7b3437-347f-4baf-e59c-fb049dd6e66d",
    "colab": {
     "base_uri": "https://localhost:8080/"
    }
   },
   "source": [
    "#Evetually the model requires data transformation.\n",
    "alpha = 9.999999999999999e-11\n",
    "\n",
    "preprocessor = make_column_transformer(\n",
    "    (Normalizer(), X_df_encoded.columns), #\n",
    "    remainder=\"passthrough\",\n",
    "    verbose_feature_names_out=False,  # avoid to prepend the preprocessor names\n",
    ")\n",
    "\n",
    "model_lasso = make_pipeline(\n",
    "    preprocessor,\n",
    "    TransformedTargetRegressor(\n",
    "        regressor=Lasso(alpha=alpha), func=np.log10, inverse_func=sp.exp10\n",
    "\n",
    "    ),\n",
    ")\n",
    "\n",
    "# define model evaluation method\n",
    "cv = RepeatedKFold(n_splits=10, n_repeats=3, random_state=1)\n",
    "# evaluate model\n",
    "scores = cross_val_score(model_lasso, X_df_encoded, Y_df, scoring='neg_mean_absolute_error', cv=cv, n_jobs=-1)\n",
    "# force scores to be positive\n",
    "scores = np.absolute(scores)\n",
    "print('Mean MAE: %.3f (%.3f)' % (np.mean(scores), np.std(scores)))"
   ],
   "outputs": [],
   "execution_count": null
  },
  {
   "cell_type": "markdown",
   "source": [
    "Модель Lasso із логарифмічною трансформацією цільової змінної (log10) та найкращим значенням alpha ≈ 1e-10, знайденим через LassoCV, показала стабільний результат:\n",
    "\n",
    "Середня похибка (MAE): 1.013\n",
    "\n",
    "Стандартне відхилення: 0.033\n",
    "\n",
    "Використано 30-кратну крос-валідацію (10 фолдів * 3 повторення)\n",
    "\n",
    "\n",
    "Трансформація цільової змінної дозволила зробити розподіл більш наближеним до нормального.\n",
    "\n",
    "\n",
    "Маленьке значення alpha означає, що регуляризація майже не \"штрафує\" коефіцієнти, отже модель не відкидає ознаки, але трохи згладжує вплив шуму."
   ],
   "metadata": {
    "id": "HV75kpx3OFBI"
   }
  },
  {
   "cell_type": "markdown",
   "source": [],
   "metadata": {
    "id": "3ovrbmIpN24H"
   }
  },
  {
   "cell_type": "markdown",
   "metadata": {
    "id": "EPRbzg1q0DKF"
   },
   "source": [
    "Ridge model"
   ]
  },
  {
   "cell_type": "code",
   "metadata": {
    "id": "onMCx6YG0DKF",
    "outputId": "6b935315-1733-4613-f191-8f248fac62d8",
    "colab": {
     "base_uri": "https://localhost:8080/"
    }
   },
   "source": [
    "alphas = np.logspace(-10, 10, 21)\n",
    "\n",
    "preprocessor = make_column_transformer(\n",
    "    (Normalizer(), X_df_encoded.columns), #\n",
    "    remainder=\"passthrough\",\n",
    "    verbose_feature_names_out=False,  # avoid to prepend the preprocessor names\n",
    ")\n",
    "\n",
    "model = make_pipeline(\n",
    "    preprocessor,\n",
    "    TransformedTargetRegressor(\n",
    "        regressor=RidgeCV(alphas=alphas), func=np.log10, inverse_func=sp.exp10\n",
    "\n",
    "    ),\n",
    ")\n",
    "\n",
    "model.fit(X_train, y_train)\n",
    "model[-1].regressor_.alpha_"
   ],
   "outputs": [],
   "execution_count": null
  },
  {
   "cell_type": "markdown",
   "source": [
    "Модель RidgeCV із alpha=1e-07 показує, що дані добре піддаються моделюванню, і лише мінімальна регуляризація допомагає уникнути перенавчання. Така мала регуляризація свідчить про низьку мультиколінеарність після обробки та масштабування ознак.\n"
   ],
   "metadata": {
    "id": "MBrux-FlN4FY"
   }
  },
  {
   "cell_type": "code",
   "metadata": {
    "id": "gFvqMQOB0DKG",
    "outputId": "2f429869-016f-47d1-8e50-d61f305e2154",
    "colab": {
     "base_uri": "https://localhost:8080/"
    }
   },
   "source": [
    "#Evetually the model requires data transformation.\n",
    "alpha = 1e-08\n",
    "\n",
    "preprocessor = make_column_transformer(\n",
    "    (Normalizer(), X_df_encoded.columns), #\n",
    "    remainder=\"passthrough\",\n",
    "    verbose_feature_names_out=False,  # avoid to prepend the preprocessor names\n",
    ")\n",
    "\n",
    "model_ridge = make_pipeline(\n",
    "    preprocessor,\n",
    "    TransformedTargetRegressor(\n",
    "        regressor=Ridge(alpha=alpha), func=np.log10, inverse_func=sp.exp10\n",
    "\n",
    "    ),\n",
    ")\n",
    "\n",
    "# define model evaluation method\n",
    "cv = RepeatedKFold(n_splits=10, n_repeats=3, random_state=1)\n",
    "# evaluate model\n",
    "scores = cross_val_score(model_ridge, X_df_encoded, Y_df, scoring='neg_mean_absolute_error', cv=cv, n_jobs=-1)\n",
    "# force scores to be positive\n",
    "scores = np.absolute(scores)\n",
    "print('Mean MAE: %.3f (%.3f)' % (np.mean(scores), np.std(scores)))"
   ],
   "outputs": [],
   "execution_count": null
  },
  {
   "cell_type": "markdown",
   "source": [
    "Модель з alpha=1e-08 дає стабільний результат, дуже схожий на результат моделі Lasso.\n",
    "\n",
    "Логарифмічна трансформація допомогла зробити розподіл цільової змінної більш нормальним, що покращило точність.\n",
    "\n",
    "Низьке значення alpha свідчить про мінімальну потребу в регуляризації, тобто твоя модель не переобтяжена складністю і дані добре підготовлені.\n"
   ],
   "metadata": {
    "id": "Jp-yF4RbOsw3"
   }
  },
  {
   "cell_type": "code",
   "metadata": {
    "id": "Rj8AvNZF0DKG",
    "outputId": "7b10eb7d-4e58-4ae3-e828-8822a9f435f2",
    "colab": {
     "base_uri": "https://localhost:8080/"
    }
   },
   "source": [
    "# define model evaluation method\n",
    "cv = RepeatedKFold(n_splits=10, n_repeats=3, random_state=1)\n",
    "# evaluate model\n",
    "scores = cross_val_score(model, X_df_encoded, Y_df, scoring='neg_mean_absolute_error', cv=cv, n_jobs=-1)\n",
    "# force scores to be positive\n",
    "scores = np.absolute(scores)\n",
    "print('Mean MAE: %.3f (%.3f)' % (np.mean(scores), np.std(scores)))"
   ],
   "outputs": [],
   "execution_count": null
  },
  {
   "cell_type": "markdown",
   "metadata": {
    "id": "MdnNTplL0DKG"
   },
   "source": [
    "We can check the variability of the coefficients across folds to make sure that there isn't a correlation between the features."
   ]
  },
  {
   "cell_type": "code",
   "metadata": {
    "id": "VfV9a0O20DKG",
    "outputId": "9992ba6b-92e3-4a2d-a03f-8381036355ed",
    "colab": {
     "base_uri": "https://localhost:8080/",
     "height": 697
    }
   },
   "source": [
    "cv = RepeatedKFold(n_splits=8, n_repeats=10, random_state=0)\n",
    "model_ridge.fit(X_train, y_train)\n",
    "cv_model = cross_validate(\n",
    "    model_ridge,\n",
    "    X_df_encoded,\n",
    "    Y_df,\n",
    "    cv=cv,\n",
    "    return_estimator=True,\n",
    "    scoring='neg_mean_absolute_error',\n",
    "    n_jobs=-1\n",
    ")\n",
    "\n",
    "coefs = pd.DataFrame(\n",
    "    [\n",
    "        est[-1].regressor_.coef_ * est[:-1].transform(X_df_encoded.iloc[train_idx]).std(axis=0)\n",
    "        for est, (train_idx, _) in zip(cv_model[\"estimator\"], cv.split(X_df, Y_df))\n",
    "    ],\n",
    "    columns=model_ridge[:-1].get_feature_names_out(), # feature names\n",
    ")\n",
    "\n",
    "plt.figure(figsize=(9, 7))\n",
    "sns.stripplot(data=coefs, orient=\"h\", palette=\"dark:k\", alpha=0.5)\n",
    "sns.boxplot(data=coefs, orient=\"h\", color=\"cyan\", saturation=0.5, whis=10)\n",
    "plt.axvline(x=0, color=\".5\")\n",
    "plt.xlabel(\"Coefficient importance\")\n",
    "plt.title(\"Coefficient importance and its variability\")\n",
    "plt.suptitle(\"Ridge model, small regularization\")\n",
    "plt.subplots_adjust(left=0.3)"
   ],
   "outputs": [],
   "execution_count": null
  },
  {
   "cell_type": "markdown",
   "metadata": {
    "id": "sqwUEATF0DKG"
   },
   "source": [
    "Coefficients do not have a big variance, so they are more or less stable."
   ]
  },
  {
   "cell_type": "markdown",
   "source": [
    "---\n",
    "\n",
    "# Загальний висновок про важливість ознак (Ridge-регресія)\n",
    "\n",
    "На основі аналізу коефіцієнтів моделі Ridge з малою регуляризацією:\n",
    "\n",
    "##  Найінформативніші ознаки:\n",
    "Ці ознаки мають стабільні коефіцієнти, що знаходяться далеко від нуля:\n",
    "\n",
    "- `T` — температура: **найсильніший негативний вплив**  \n",
    "- `RH` — відносна вологість: **негативний вплив**  \n",
    "- `AH` — абсолютна вологість: **значний вплив**  \n",
    "- `PT08.S4(NO2)` і `PT08.S5(O3)` — **найсильніші позитивні предиктори**  \n",
    "- `C6H6_lag1` — попереднє значення бензолу: **сильний позитивний вплив**  \n",
    "- `dew_point` — точка роси: також значуща ознака  \n",
    "\n",
    "## Слабші або нестабільні ознаки:\n",
    "Мають коефіцієнти, близькі до нуля, або сильно варіативні:\n",
    "\n",
    "- `sin_hour`, `cos_hour` — **добова циклічність не має значного впливу**\n",
    "- `Weekday`, `Month` — **часові ознаки мають мінімальний ефект**\n",
    "- `Season_*` — сезонність має **помірний стабільний вплив**\n",
    "\n",
    "## Рекомендації:\n",
    "- **Зберегти** тільки інформативні та стабільні ознаки для побудови простої та надійної моделі.\n",
    "- **Розглянути зменшення розмірності** або **регуляризацію**, щоб зменшити шум від слабких фіч.\n",
    "- **Добова циклічність** може бути виключена без втрати якості.\n",
    "\n",
    "---"
   ],
   "metadata": {
    "id": "LW8ui45DQZKo"
   }
  },
  {
   "cell_type": "markdown",
   "metadata": {
    "id": "HnFPAgEP0DKG"
   },
   "source": [
    "Polinomial model"
   ]
  },
  {
   "cell_type": "code",
   "metadata": {
    "id": "QaE40EoF0DKG",
    "outputId": "890e6703-6ad8-4f52-9dd6-ff962d56d448",
    "colab": {
     "base_uri": "https://localhost:8080/"
    }
   },
   "source": [
    "# polinomial model\n",
    "preprocessor = make_column_transformer(\n",
    "    (PolynomialFeatures(2), X_df_encoded.columns), #\n",
    "    remainder=\"passthrough\",\n",
    "    verbose_feature_names_out=False,  # avoid to prepend the preprocessor names\n",
    ")\n",
    "\n",
    "model_plnm = make_pipeline(\n",
    "    preprocessor,\n",
    "    TransformedTargetRegressor(\n",
    "        regressor=LinearRegression()\n",
    "\n",
    "    ),\n",
    ")\n",
    "\n",
    "# define model evaluation method\n",
    "cv = RepeatedKFold(n_splits=10, n_repeats=3, random_state=1)\n",
    "# evaluate model\n",
    "scores = cross_val_score(model_plnm, X_df_encoded, Y_df, scoring='neg_mean_absolute_error', cv=cv, n_jobs=-1)\n",
    "# force scores to be positive\n",
    "scores = np.absolute(scores)\n",
    "print('Mean MAE: %.3f (%.3f)' % (np.mean(scores), np.std(scores)))"
   ],
   "outputs": [],
   "execution_count": null
  },
  {
   "cell_type": "code",
   "source": [
    "from sklearn.model_selection import cross_validate, RepeatedKFold\n",
    "import numpy as np\n",
    "\n",
    "# 1. Побудова моделі\n",
    "poly = PolynomialFeatures(2, include_bias=False)\n",
    "preprocessor = make_column_transformer(\n",
    "    (poly, X_df_encoded.columns),\n",
    "    remainder=\"passthrough\",\n",
    "    verbose_feature_names_out=False\n",
    ")\n",
    "\n",
    "model_plnm = make_pipeline(\n",
    "    preprocessor,\n",
    "    TransformedTargetRegressor(\n",
    "        regressor=LinearRegression()\n",
    "    )\n",
    ")\n",
    "\n",
    "# 2. Крос-валідація\n",
    "cv = RepeatedKFold(n_splits=8, n_repeats=10, random_state=0)\n",
    "cv_model = cross_validate(\n",
    "    model_plnm,\n",
    "    X_df_encoded,\n",
    "    Y_df,\n",
    "    cv=cv,\n",
    "    return_estimator=True,\n",
    "    scoring='neg_mean_absolute_error',\n",
    "    n_jobs=-1\n",
    ")\n",
    "\n",
    "# 3. Отримуємо feature names з ПЕРШОЇ навченої моделі\n",
    "feature_names = cv_model['estimator'][0].named_steps['columntransformer'].get_feature_names_out()\n",
    "\n",
    "# 4. Коефіцієнти для кожного спліта\n",
    "coef_matrix = pd.DataFrame(\n",
    "    [est.named_steps['transformedtargetregressor'].regressor_.coef_ for est in cv_model['estimator']],\n",
    "    columns=feature_names\n",
    ")\n",
    "\n",
    "# 5. Візуалізація\n",
    "mean_importance = coef_matrix.mean(axis=0).abs().sort_values(ascending=False)\n",
    "\n",
    "# Обираємо топ 30 найважливіших\n",
    "top_features = mean_importance.head(30).index\n",
    "\n",
    "# Фільтруємо тільки ці ознаки\n",
    "coef_filtered = coef_matrix[top_features]\n",
    "\n",
    "# Малюємо графік\n",
    "plt.figure(figsize=(10, 8))\n",
    "sns.stripplot(data=coef_filtered, orient=\"h\", color='black', alpha=0.4)\n",
    "sns.boxplot(data=coef_filtered, orient=\"h\", color=\"lime\", saturation=0.5, whis=10)\n",
    "plt.axvline(x=0, color=\"gray\", linestyle='--')\n",
    "plt.xlabel(\"Важливість коефіцієнта\")\n",
    "plt.title(\"🔝 Топ-30 важливих поліноміальних ознак\")\n",
    "plt.subplots_adjust(left=0.35)\n",
    "plt.show()\n",
    "\n"
   ],
   "metadata": {
    "colab": {
     "base_uri": "https://localhost:8080/",
     "height": 782
    },
    "id": "WZQqkgazbf_Z",
    "outputId": "6a0cd18c-e2cf-4fb8-9ef4-e64941bf127f"
   },
   "outputs": [],
   "execution_count": null
  },
  {
   "cell_type": "markdown",
   "source": [
    "---\n",
    "\n",
    "###  **Висновки за результатами моделювання**\n",
    "\n",
    "У ході виконання завдання було проведено повний цикл аналізу даних якості повітря, включно з обробкою пропущених значень, інженерією ознак та побудовою різних моделей регресії для передбачення концентрації бензолу `C6H6(GT)`.\n",
    "\n",
    "###  1. **Базові моделі**\n",
    "\n",
    "- **Лінійна регресія (без трансформацій)**:  \n",
    "  `MAE ≈ 1.281`, модель демонструє базову точність, однак не враховує особливості розподілу цільової змінної.\n",
    "\n",
    "- **З логарифмічною трансформацією цільової змінної (log10)**:  \n",
    "  `MAE ≈ 1.013`, покращення точності за рахунок нормалізації розподілу.\n",
    "\n",
    "---\n",
    "\n",
    "###  2. **Регуляризовані моделі**\n",
    "\n",
    "- **LassoCV** (автоматичний підбір alpha):  \n",
    "  Найкраще `alpha = 1e-10`, що означає **мінімальну регуляризацію**.  \n",
    "  З логарифмічною трансформацією: `MAE ≈ 1.013`  \n",
    "  Без трансформації: `MAE ≈ 1.281`\n",
    "\n",
    "- **RidgeCV**:  \n",
    "  Подібна до Lasso за точністю (`MAE ≈ 1.013`), стабільні коефіцієнти без перенавчання.\n",
    "\n",
    " *Висновок*: Обидві моделі показали **стабільну якість**, однак не змогли суттєво зменшити похибку нижче 1.0.\n",
    "\n",
    "---\n",
    "\n",
    "###  3. **Поліноміальна модель (PolynomialFeatures(2))**\n",
    "\n",
    "- Побудована модель другого ступеня з усіма взаємодіями ознак.\n",
    "- Показала **найкращий результат серед усіх моделей**:  \n",
    "   `Mean MAE ≈ 0.687 (±0.028)`  \n",
    "- Це підтверджує, що **нелінійні зв’язки між змінними критично важливі** для точного прогнозування `C6H6(GT)`.\n",
    "\n",
    "---\n",
    "\n",
    "###  4. **Важливість ознак**\n",
    "\n",
    "- За допомогою **Ridge-регресії** та аналізу коефіцієнтів було виявлено:\n",
    "  - Найбільш значущі ознаки: `T`, `RH`, `AH`, `PT08.S4(NO2)`, `PT08.S5(O3)`, `C6H6_lag1`, `dew_point`\n",
    "  - Незначущі: `sin_hour`, `cos_hour`, `Weekday`, `Month` — їх можна виключити\n",
    "\n",
    "- В моделі з **поліноміальними ознаками**:\n",
    "  - Найважливішими стали: `AH²`, `AH * Season_Winter`, `cos_hour²`, `sin_hour * cos_hour`, `C6H6_lag1 * AH`\n",
    "\n",
    "---\n",
    "\n",
    "###  **Загальний підсумок**\n",
    "\n",
    "| Модель                  | MAE       | Коментар |\n",
    "|------------------------|-----------|----------|\n",
    "| Лінійна регресія       | 1.281     | Базовий рівень |\n",
    "| З логарифмом (log10)   | 1.013     | Покращення за рахунок трансформації |\n",
    "| Lasso (α ≈ 1e-10)       | 1.013     | Автоматичний відбір ознак |\n",
    "| Ridge (α ≈ 1e-08)       | 1.013     | Стабільна модель з малою регуляризацією |\n",
    "| **Поліноміальна модель** | **0.687** | `Найкраща модель, враховує взаємодії та квадратичні зв’язки` |\n",
    "\n",
    "---\n",
    "\n",
    "###  **Рекомендації**:\n",
    "\n",
    "- Використовувати **поліноміальну модель** другого ступеня — вона забезпечує найменшу похибку.\n",
    "- Для побудови інтерпретованих моделей — обирати **Ridge або Lasso** з логарифмічною трансформацією.\n",
    "- Можна **зменшити кількість ознак** на основі аналізу важливості — це спростить модель без втрати якості.\n",
    "\n",
    "---"
   ],
   "metadata": {
    "id": "PsyjXYB5aPD9"
   }
  },
  {
   "cell_type": "markdown",
   "source": [
    "###Вплив зменшення розмірності на якість моделі"
   ],
   "metadata": {
    "id": "D5fUtqgRhbRX"
   }
  },
  {
   "cell_type": "code",
   "source": [
    "from sklearn.linear_model import LinearRegression\n",
    "from sklearn.feature_selection import SelectFromModel\n",
    "from sklearn.pipeline import make_pipeline\n",
    "from sklearn.preprocessing import PolynomialFeatures\n",
    "from sklearn.compose import make_column_transformer\n",
    "from sklearn.model_selection import RepeatedKFold, cross_val_score\n",
    "from sklearn.compose import TransformedTargetRegressor\n",
    "import numpy as np\n",
    "\n",
    "# Побудова повного пайплайну з SelectFromModel всередині\n",
    "poly = PolynomialFeatures(degree=2, include_bias=False)\n",
    "\n",
    "preprocessor = make_column_transformer(\n",
    "    (poly, X_df_encoded.columns),\n",
    "    remainder=\"passthrough\",\n",
    "    verbose_feature_names_out=False\n",
    ")\n",
    "\n",
    "selector = SelectFromModel(LinearRegression(), threshold=0.001)\n",
    "\n",
    "model_reduced_pipeline = make_pipeline(\n",
    "    preprocessor,\n",
    "    selector,\n",
    "    TransformedTargetRegressor(regressor=LinearRegression())\n",
    ")\n",
    "\n",
    "# Оцінювання\n",
    "cv = RepeatedKFold(n_splits=10, n_repeats=3, random_state=1)\n",
    "scores = cross_val_score(model_reduced_pipeline, X_df_encoded, Y_df,\n",
    "                         scoring='neg_mean_absolute_error', cv=cv, n_jobs=-1)\n",
    "\n",
    "scores = np.abs(scores)\n",
    "print(f\" Mean MAE (спрощена модель): {scores.mean():.3f} ± {scores.std():.3f}\")\n"
   ],
   "metadata": {
    "colab": {
     "base_uri": "https://localhost:8080/"
    },
    "id": "o4AMLypgUoeW",
    "outputId": "c1ae9905-95cf-4e63-cb4e-e373501d9f08"
   },
   "outputs": [],
   "execution_count": null
  },
  {
   "cell_type": "markdown",
   "source": [],
   "metadata": {
    "id": "oRMmJ7eEhKjP"
   }
  },
  {
   "cell_type": "markdown",
   "source": [
    "Використання SelectFromModel з порогом 0.001 дозволило:\n",
    "\n",
    "значно зменшити кількість ознак\n",
    "\n",
    "майже не погіршити якість моделі\n",
    "\n",
    "знизити ризик перенавчання (overfitting)\n",
    "\n",
    "спростити інтерпретацію і підвищити стабільність\n",
    "\n",
    "Поріг threshold=0.001 —  відкидає слабкі фічі, але зберігає важливі взаємодії"
   ],
   "metadata": {
    "id": "XfA6l5UphOae"
   }
  },
  {
   "cell_type": "code",
   "source": [
    "from sklearn.linear_model import LinearRegression\n",
    "from sklearn.feature_selection import SelectFromModel\n",
    "from sklearn.pipeline import make_pipeline\n",
    "from sklearn.preprocessing import PolynomialFeatures\n",
    "from sklearn.compose import make_column_transformer\n",
    "from sklearn.compose import TransformedTargetRegressor\n",
    "import numpy as np\n",
    "import pandas as pd\n",
    "import matplotlib.pyplot as plt\n",
    "import seaborn as sns\n",
    "\n",
    "# Побудова трансформера\n",
    "poly = PolynomialFeatures(degree=2, include_bias=False)\n",
    "preprocessor = make_column_transformer(\n",
    "    (poly, X_df_encoded.columns),\n",
    "    remainder=\"passthrough\",\n",
    "    verbose_feature_names_out=False\n",
    ")\n",
    "\n",
    "# Створення окремого пайплайну без cross_val для витягу фіч\n",
    "model_for_visualization = make_pipeline(\n",
    "    preprocessor,\n",
    "    SelectFromModel(LinearRegression(), threshold=0.1),\n",
    "    TransformedTargetRegressor(regressor=LinearRegression())\n",
    ")\n",
    "\n",
    "# Навчання моделі\n",
    "model_for_visualization.fit(X_df_encoded, Y_df)\n",
    "\n",
    "# Отримання фіч після трансформації\n",
    "feature_names = model_for_visualization.named_steps['columntransformer'].get_feature_names_out()\n",
    "\n",
    "# Отримання маски вибраних ознак\n",
    "mask = model_for_visualization.named_steps['selectfrommodel'].get_support()\n",
    "\n",
    "# Отримання відібраних фіч і їх коефіцієнтів\n",
    "selected_features = feature_names[mask]\n",
    "selected_coefs = model_for_visualization.named_steps['transformedtargetregressor'].regressor_.coef_\n",
    "\n",
    "# Побудова датафрейму\n",
    "coef_df = pd.DataFrame({\n",
    "    'Feature': selected_features,\n",
    "    'Importance': selected_coefs\n",
    "}).sort_values(by='Importance', key=abs, ascending=False)\n",
    "\n",
    "cv = RepeatedKFold(n_splits=10, n_repeats=3, random_state=1)\n",
    "scores = cross_val_score(model_for_visualization, X_df_encoded, Y_df,\n",
    "                         scoring='neg_mean_absolute_error', cv=cv, n_jobs=-1)\n",
    "\n",
    "scores = np.abs(scores)\n",
    "print(f\" Mean MAE (спрощена модель): {scores.mean():.3f} ± {scores.std():.3f}\")\n",
    "\n",
    "\n",
    "plt.figure(figsize=(10, 8))\n",
    "sns.barplot(data=coef_df, y='Feature', x='Importance', palette='viridis')\n",
    "plt.title('Найважливіші відібрані ознаки (SelectFromModel + PolyFeatures)')\n",
    "plt.tight_layout()\n",
    "plt.show()\n"
   ],
   "metadata": {
    "colab": {
     "base_uri": "https://localhost:8080/",
     "height": 925
    },
    "id": "QDQIppj9hMG7",
    "outputId": "49f3b694-a337-4c0e-b3de-9eafc10d72cb"
   },
   "outputs": [],
   "execution_count": null
  },
  {
   "cell_type": "code",
   "source": [
    "# Визначаємо ознаки, які хочемо виключити\n",
    "cols_to_drop = ['Hour', 'sin_hour', 'cos_hour', 'CO(GT)', 'PT08.S1(CO)']\n",
    "\n",
    "# Видаляємо їх з ознак\n",
    "X_df_reduced = X_df_encoded.drop(columns=cols_to_drop)\n"
   ],
   "metadata": {
    "id": "ZabNkASjkT0Y"
   },
   "outputs": [],
   "execution_count": null
  },
  {
   "cell_type": "code",
   "source": [
    "\n",
    "poly = PolynomialFeatures(degree=2, include_bias=False)\n",
    "preprocessor = make_column_transformer(\n",
    "    (poly, X_df_reduced.columns),\n",
    "    remainder=\"passthrough\",\n",
    "    verbose_feature_names_out=False\n",
    ")\n",
    "\n",
    "selector = SelectFromModel(LinearRegression(), threshold=0.00001)\n",
    "\n",
    "model_final_pipeline = make_pipeline(\n",
    "    preprocessor,\n",
    "    selector,\n",
    "    TransformedTargetRegressor(regressor=LinearRegression())\n",
    ")\n",
    "\n",
    "cv = RepeatedKFold(n_splits=10, n_repeats=3, random_state=1)\n",
    "scores = cross_val_score(model_final_pipeline, X_df_reduced, Y_df,\n",
    "                         scoring='neg_mean_absolute_error', cv=cv, n_jobs=-1)\n",
    "\n",
    "print(f\"Mean MAE (без CO та часових ознак): {np.mean(np.abs(scores)):.3f} ± {np.std(scores):.3f}\")\n"
   ],
   "metadata": {
    "colab": {
     "base_uri": "https://localhost:8080/"
    },
    "id": "BrfQJIJdkaQO",
    "outputId": "14c355c9-c395-4ef2-8b9a-532fde1e4cb9"
   },
   "outputs": [],
   "execution_count": null
  },
  {
   "cell_type": "code",
   "source": [
    "import numpy as np\n",
    "import pandas as pd\n",
    "import matplotlib.pyplot as plt\n",
    "import seaborn as sns\n",
    "\n",
    "from sklearn.linear_model import LinearRegression\n",
    "from sklearn.feature_selection import SelectFromModel\n",
    "from sklearn.pipeline import make_pipeline\n",
    "from sklearn.preprocessing import PolynomialFeatures\n",
    "from sklearn.compose import make_column_transformer\n",
    "from sklearn.compose import TransformedTargetRegressor\n",
    "\n",
    "# Побудова моделі з найкращими параметрами\n",
    "poly = PolynomialFeatures(degree=2, include_bias=False)\n",
    "\n",
    "preprocessor = make_column_transformer(\n",
    "    (poly, X_df_reduced.columns),\n",
    "    remainder=\"passthrough\",\n",
    "    verbose_feature_names_out=False\n",
    ")\n",
    "\n",
    "selector = SelectFromModel(LinearRegression(), threshold=0.00001)\n",
    "\n",
    "model_final_pipeline = make_pipeline(\n",
    "    preprocessor,\n",
    "    selector,\n",
    "    TransformedTargetRegressor(regressor=LinearRegression())\n",
    ")\n",
    "\n",
    "# Навчання моделі на всіх даних\n",
    "model_final_pipeline.fit(X_df_reduced, Y_df)\n",
    "\n",
    "# Отримання імен ознак після трансформації\n",
    "feature_names = model_final_pipeline.named_steps['columntransformer'].get_feature_names_out()\n",
    "\n",
    "# Отримання маски вибраних ознак\n",
    "selected_mask = model_final_pipeline.named_steps['selectfrommodel'].get_support()\n",
    "\n",
    "# Отримання коефіцієнтів тільки для вибраних ознак\n",
    "selected_features = feature_names[selected_mask]\n",
    "coefs = model_final_pipeline.named_steps['transformedtargetregressor'].regressor_.coef_\n",
    "\n",
    "# Побудова датафрейму\n",
    "coef_df = pd.DataFrame({\n",
    "    'Feature': selected_features,\n",
    "    'Importance': coefs\n",
    "}).sort_values(by='Importance', key=np.abs, ascending=False)\n",
    "\n",
    "# Візуалізація\n",
    "plt.figure(figsize=(10, 10))\n",
    "sns.barplot(data=coef_df, y='Feature', x='Importance', palette='viridis')\n",
    "plt.title('🔍 Найважливіші залишені ознаки (SelectFromModel + PolyFeatures)')\n",
    "plt.xlabel('Importance')\n",
    "plt.ylabel('Feature')\n",
    "plt.tight_layout()\n",
    "plt.show()\n"
   ],
   "metadata": {
    "colab": {
     "base_uri": "https://localhost:8080/",
     "height": 1000
    },
    "id": "6XKnhbJllsGj",
    "outputId": "58a73a3c-6d1c-4ed2-fbc5-93913b21ba0d"
   },
   "outputs": [],
   "execution_count": null
  },
  {
   "cell_type": "code",
   "source": [
    "X_df_reduced.columns"
   ],
   "metadata": {
    "colab": {
     "base_uri": "https://localhost:8080/"
    },
    "id": "NdM5QbF0nA1Y",
    "outputId": "5599173b-3eb8-407a-e720-46fbcf39f81a"
   },
   "outputs": [],
   "execution_count": null
  },
  {
   "cell_type": "code",
   "source": [
    "from sklearn.linear_model import LinearRegression\n",
    "from sklearn.feature_selection import SelectFromModel\n",
    "from sklearn.pipeline import make_pipeline\n",
    "from sklearn.preprocessing import PolynomialFeatures\n",
    "from sklearn.compose import make_column_transformer\n",
    "from sklearn.compose import TransformedTargetRegressor\n",
    "from sklearn.model_selection import RepeatedKFold, cross_val_score\n",
    "import matplotlib.pyplot as plt\n",
    "import seaborn as sns\n",
    "import pandas as pd\n",
    "import numpy as np\n",
    "\n",
    "selected_columns = [\n",
    "    'NOx(GT)', 'PT08.S3(NOx)', 'NO2(GT)',\n",
    "    'PT08.S4(NO2)', 'PT08.S5(O3)', 'T', 'AH',\n",
    "    'Weekday', 'C6H6_roll3', 'C6H6_lag1', 'Weekday_revo'\n",
    "]\n",
    "\n",
    "# Припустимо, X_df та Y_df вже визначено в сесії (оскільки вони раніше використовувались)\n",
    "X_df_final = X_df[selected_columns]\n",
    "\n",
    "# Побудова пайплайну\n",
    "poly = PolynomialFeatures(degree=2, include_bias=False)\n",
    "preprocessor = make_column_transformer(\n",
    "    (poly, X_df_final.columns),\n",
    "    remainder=\"passthrough\",\n",
    "    verbose_feature_names_out=False\n",
    ")\n",
    "\n",
    "selector = SelectFromModel(LinearRegression(), threshold=0.00001)\n",
    "\n",
    "model_final_pipeline = make_pipeline(\n",
    "    preprocessor,\n",
    "    selector,\n",
    "    TransformedTargetRegressor(regressor=LinearRegression())\n",
    ")\n",
    "\n",
    "# Крос-валідація\n",
    "cv = RepeatedKFold(n_splits=10, n_repeats=3, random_state=1)\n",
    "scores = cross_val_score(model_final_pipeline, X_df_final, Y_df,\n",
    "                         scoring='neg_mean_absolute_error',\n",
    "                         cv=cv, n_jobs=-1)\n",
    "\n",
    "\n",
    "\n",
    "coef_df = pd.DataFrame({\n",
    "    'Feature': np.array(feature_names)[mask],\n",
    "    'Importance': coefs[mask]\n",
    "}).sort_values(by='Importance', key=abs, ascending=False)\n",
    "\n",
    "# Побудова графіку\n",
    "plt.figure(figsize=(10, 8))\n",
    "sns.barplot(data=coef_df, y='Feature', x='Importance', palette='viridis')\n",
    "plt.title('💡 Найважливіші залишені ознаки (SelectFromModel + PolyFeatures)')\n",
    "plt.tight_layout()\n",
    "plt.show()\n",
    "\n",
    "# Виведення MAE\n",
    "mean_mae = np.mean(np.abs(scores))\n",
    "std_mae = np.std(scores)\n",
    "mean_mae, std_mae\n",
    "print(f\"Mean MAE (без CO та часових ознак): {np.mean(np.abs(scores)):.3f} ± {np.std(scores):.3f}\")\n",
    "\n"
   ],
   "metadata": {
    "colab": {
     "base_uri": "https://localhost:8080/",
     "height": 995
    },
    "id": "O4VPeouin-a5",
    "outputId": "fbd28876-4f03-4acd-99f9-ef3ed1e67b28"
   },
   "outputs": [],
   "execution_count": null
  },
  {
   "cell_type": "markdown",
   "source": [],
   "metadata": {
    "id": "4ETwUwPpsEFw"
   }
  },
  {
   "cell_type": "markdown",
   "source": [
    "### **Висновок щодо ролі абсолютної вологості (AH) у прогнозуванні концентрації бензолу (C6H6):**\n",
    "\n",
    "Абсолютна вологість (AH) є однією з найважливіших ознак у моделі прогнозування, і ця висока важливість має як статистичне, так і фізико-хімічне обґрунтування:\n",
    "\n",
    "###  1. **Наукове підґрунтя:**\n",
    "Ось деякі наукові дослідження, які вивчають вплив вологості на концентрацію бензолу в атмосфері:\n",
    "\n",
    "1. **\"The competing role of moisture in adsorption of gaseous benzene on microporous activated carbon\"**  \n",
    "   *Chemical Engineering Journal*.  \n",
    "   Дослідження показує, що волога негативно впливає на адсорбцію бензолу на активованому вугіллі, особливо при низьких концентраціях бензолу.  \n",
    "   [Посилання](https://www.sciencedirect.com/science/article/abs/pii/S1383586621011953)\n",
    "\n",
    "2. **\"The dynamic competition in adsorption between gaseous benzene and water vapor on hydrophilic MOF-199\"**  \n",
    "   *Journal of Hazardous Materials*.  \n",
    "   Виявлено, що волога має негативний вплив на адсорбцію бензолу, особливо на MOF-199 при низьких рівнях бензолу.  \n",
    "   [Посилання](https://www.sciencedirect.com/science/article/abs/pii/S1385894720339334)\n",
    "\n",
    "3. **\"Influence of temperature and humidity on the detection of benzene vapor by piezoelectric crystal sensor\"**  \n",
    "   *arXiv*.  \n",
    "   Дослідження вивчає вплив температури та вологості на виявлення парів бензолу за допомогою п'єзоелектричного кристалічного сенсора.  \n",
    "   [Посилання](https://arxiv.org/abs/1611.05958)\n",
    "\n",
    "Ці дослідження підтверджують, що підвищена вологість може знижувати ефективність видалення бензолу з атмосфери, оскільки молекули води конкурують з молекулами бензолу за активні місця на поверхнях адсорбентів.\n",
    "\n",
    "\n",
    "###  2. **Модельне підтвердження:**\n",
    "- AH має **найвищу або одну з найвищих важливостей** у моделі з `PolynomialFeatures + SelectFromModel`, що означає сильний зв’язок між вологістю та концентрацією цільового забруднювача.\n",
    "- Висока важливість AH спостерігається стабільно незалежно від того, які інші змінні залишаються в моделі, що свідчить про її **незалежну прогностичну силу**.\n",
    "\n",
    "\n",
    "\n",
    "### ✅ 3. **Практичне значення:**\n",
    "- AH — не лише погодна змінна, але й **індикатор умов, що впливають на хімічні реакції та утримання газів** у повітрі.\n",
    "- Її включення в модель покращує точність, зменшуючи похибку (MAE)ю.\n",
    "\n",
    "\n",
    "\n",
    "Таким чином, абсолютна вологість — це не просто \"фоновий\" метеопараметр, а **ключовий фізико-хімічний фактор**, що впливає на атмосферну поведінку бензолу. Її важливість обґрунтована як емпіричними результатами моделі, так і дослідженнями з літератури.\n"
   ],
   "metadata": {
    "id": "p9w_oH3ErSpv"
   }
  },
  {
   "cell_type": "code",
   "source": [
    "from sklearn.linear_model import LinearRegression\n",
    "from sklearn.feature_selection import SelectFromModel\n",
    "from sklearn.pipeline import make_pipeline\n",
    "from sklearn.preprocessing import PolynomialFeatures\n",
    "from sklearn.compose import make_column_transformer, TransformedTargetRegressor\n",
    "from sklearn.model_selection import RepeatedKFold, cross_val_score\n",
    "import matplotlib.pyplot as plt\n",
    "import seaborn as sns\n",
    "import pandas as pd\n",
    "import numpy as np\n",
    "\n",
    "# Використовуємо обрані ознаки\n",
    "selected_columns = [\n",
    "    'NOx(GT)', 'PT08.S3(NOx)', 'NO2(GT)',\n",
    "    'PT08.S4(NO2)', 'PT08.S5(O3)',\n",
    "    'Weekday', 'Weekday_revo',\n",
    "    'C6H6_roll3', 'C6H6_lag1'\n",
    "]\n",
    "X_df_final = X_df[selected_columns]\n",
    "\n",
    "# Побудова моделі\n",
    "poly = PolynomialFeatures(degree=2, include_bias=False)\n",
    "preprocessor = make_column_transformer(\n",
    "    (poly, X_df_final.columns),\n",
    "    remainder=\"passthrough\",\n",
    "    verbose_feature_names_out=False\n",
    ")\n",
    "\n",
    "selector = SelectFromModel(LinearRegression(), threshold=0.00001)\n",
    "\n",
    "model_pipeline = make_pipeline(\n",
    "    preprocessor,\n",
    "    selector,\n",
    "    TransformedTargetRegressor(regressor=LinearRegression())\n",
    ")\n",
    "\n",
    "# Крос-валідація\n",
    "cv = RepeatedKFold(n_splits=10, n_repeats=3, random_state=1)\n",
    "scores = cross_val_score(model_pipeline, X_df_final, Y_df,\n",
    "                         scoring='neg_mean_absolute_error',\n",
    "                         cv=cv, n_jobs=-1)\n",
    "\n",
    "# Навчання моделі для отримання важливостей\n",
    "model_pipeline.fit(X_df_final, Y_df)\n",
    "\n",
    "# Витяг ознак та коефіцієнтів\n",
    "feature_names = model_pipeline.named_steps['columntransformer'].get_feature_names_out()\n",
    "coefs = model_pipeline.named_steps['selectfrommodel'].estimator_.coef_\n",
    "mask = model_pipeline.named_steps['selectfrommodel'].get_support()\n",
    "\n",
    "# Побудова таблиці з важливостями\n",
    "coef_df = pd.DataFrame({\n",
    "    'Feature': np.array(feature_names)[mask],\n",
    "    'Importance': coefs[mask]\n",
    "}).sort_values(by='Importance', key=abs, ascending=False).head(10)\n",
    "\n",
    "# Побудова графіка\n",
    "plt.figure(figsize=(10, 7))\n",
    "sns.barplot(data=coef_df, y='Feature', x='Importance', palette='viridis')\n",
    "plt.title('Топ-10 найважливіших ознак (без T, без AH, без dew_point)')\n",
    "plt.tight_layout()\n",
    "plt.grid(True, axis='x')\n",
    "plt.show()\n",
    "\n",
    "# Повертаємо MAE\n",
    "np.mean(np.abs(scores)), np.std(scores)\n"
   ],
   "metadata": {
    "colab": {
     "base_uri": "https://localhost:8080/",
     "height": 825
    },
    "id": "6BtPOB7HplFc",
    "outputId": "400ee8af-7b6c-4dff-b2e5-9c2109033d04"
   },
   "outputs": [],
   "execution_count": null
  },
  {
   "cell_type": "code",
   "source": [
    "import shap\n",
    "from sklearn.ensemble import RandomForestRegressor\n",
    "from sklearn.pipeline import Pipeline\n",
    "from sklearn.preprocessing import StandardScaler\n",
    "from sklearn.inspection import PartialDependenceDisplay\n",
    "\n",
    "# Обираємо тільки dew_point та AH для демонстрації впливу\n",
    "selected_columns_for_shap = ['dew_point', 'AH']\n",
    "X_for_shap = X_df[selected_columns_for_shap]\n",
    "\n",
    "# Побудова моделі для SHAP (використаємо RandomForest для кращого представлення нелінійностей)\n",
    "rf_model = Pipeline([\n",
    "    (\"scaler\", StandardScaler()),\n",
    "    (\"regressor\", RandomForestRegressor(n_estimators=100, random_state=42))\n",
    "])\n",
    "\n",
    "# Навчання моделі\n",
    "rf_model.fit(X_for_shap, Y_df)\n",
    "\n",
    "# SHAP values\n",
    "explainer = shap.Explainer(rf_model.named_steps['regressor'], X_for_shap)\n",
    "shap_values = explainer(X_for_shap)\n",
    "\n",
    "# Partial Dependence Plot\n",
    "fig_pdp, ax = plt.subplots(figsize=(10, 4))\n",
    "PartialDependenceDisplay.from_estimator(\n",
    "    rf_model, X_for_shap, features=[0, 1], ax=ax\n",
    ")\n",
    "\n",
    "# SHAP Summary Plot (only for dew_point and AH)\n",
    "shap.summary_plot(shap_values.values, X_for_shap, feature_names=selected_columns_for_shap, show=False)\n",
    "plt.tight_layout()\n",
    "\n",
    "plt.show()\n",
    "fig_pdp.show()\n"
   ],
   "metadata": {
    "colab": {
     "base_uri": "https://localhost:8080/",
     "height": 248
    },
    "id": "GCodEJlUwDiQ",
    "outputId": "bdf98910-3687-47d7-ebbb-375e89ce2b78"
   },
   "outputs": [],
   "execution_count": null
  },
  {
   "cell_type": "markdown",
   "source": [],
   "metadata": {
    "id": "Zl0-fdTnwDA0"
   }
  },
  {
   "cell_type": "code",
   "source": [
    "from sklearn.inspection import PartialDependenceDisplay\n",
    "from sklearn.linear_model import LinearRegression\n",
    "from sklearn.feature_selection import SelectFromModel\n",
    "from sklearn.pipeline import make_pipeline\n",
    "from sklearn.preprocessing import PolynomialFeatures\n",
    "from sklearn.compose import make_column_transformer, TransformedTargetRegressor\n",
    "from sklearn.model_selection import train_test_split\n",
    "import matplotlib.pyplot as plt\n",
    "\n",
    "# Використаємо останню модель з dew_point та AH для PDP\n",
    "selected_columns = [\n",
    "    'NOx(GT)', 'PT08.S3(NOx)', 'NO2(GT)',\n",
    "    'PT08.S4(NO2)', 'PT08.S5(O3)', 'T', 'AH',\n",
    "    'Weekday', 'C6H6_roll3', 'C6H6_lag1', 'Weekday_revo', 'dew_point'\n",
    "]\n",
    "\n",
    "X_selected = X_df[selected_columns]\n",
    "X_train, X_test, y_train, y_test = train_test_split(X_selected, Y_df, test_size=0.2, random_state=42)\n",
    "\n",
    "# Побудова моделі\n",
    "poly = PolynomialFeatures(degree=2, include_bias=False)\n",
    "preprocessor = make_column_transformer(\n",
    "    (poly, X_selected.columns),\n",
    "    remainder=\"passthrough\",\n",
    "    verbose_feature_names_out=False\n",
    ")\n",
    "\n",
    "selector = SelectFromModel(LinearRegression(), threshold=0.00001)\n",
    "\n",
    "pipeline = make_pipeline(\n",
    "    preprocessor,\n",
    "    selector,\n",
    "    TransformedTargetRegressor(regressor=LinearRegression())\n",
    ")\n",
    "\n",
    "# Навчання моделі\n",
    "pipeline.fit(X_train, y_train)\n",
    "\n",
    "# Побудова PDP для AH та dew_point\n",
    "features_for_pdp = ['AH', 'dew_point']\n",
    "fig, ax = plt.subplots(figsize=(10, 5))\n",
    "PartialDependenceDisplay.from_estimator(pipeline, X_train, features_for_pdp, ax=ax)\n",
    "plt.tight_layout()\n",
    "plt.show()\n"
   ],
   "metadata": {
    "colab": {
     "base_uri": "https://localhost:8080/",
     "height": 501
    },
    "id": "jijeijklwsh1",
    "outputId": "9be26ba9-f10b-4517-e853-0ce72d281738"
   },
   "outputs": [],
   "execution_count": null
  },
  {
   "cell_type": "markdown",
   "source": [
    "###Висновок щодо вибору ознаки вологості:\n",
    "\n",
    "Модель показує, що точка роси (dew_point) є більш інформативною ознакою, ніж абсолютна вологість (AH). Це підтверджується:\n",
    "\n",
    "SHAP-аналізом — dew_point має сильний і стабільний негативний вплив на концентрацію бензолу.\n",
    "\n",
    "PDP-графіком — спостерігається чіткий спад тренду: при зростанні точки роси модель очікує зниження вмісту бензолу.\n",
    "\n",
    "Фізичною інтерпретацією — точка роси краще відображає наявність вологи в атмосфері у зв'язку з температурою, і, отже, визначає умови для адсорбції та фотохімічних процесів.\n",
    "\n",
    "Практичний висновок:\n",
    "\n",
    "З огляду на стабільний вплив, наочну фізичну інтерпретацію та підтримку в літературі, доцільно залишити саме dew_point як представника вологісних умов у моделі, замість більш змінного й менш стабільного AH."
   ],
   "metadata": {
    "id": "dpDE41A9yl9P"
   }
  },
  {
   "cell_type": "code",
   "source": [
    "import pandas as pd\n",
    "import numpy as np\n",
    "import seaborn as sns\n",
    "import matplotlib.pyplot as plt\n",
    "from sklearn.linear_model import LinearRegression\n",
    "from sklearn.feature_selection import SelectFromModel\n",
    "from sklearn.pipeline import make_pipeline\n",
    "from sklearn.preprocessing import PolynomialFeatures\n",
    "from sklearn.compose import make_column_transformer, TransformedTargetRegressor\n",
    "from sklearn.model_selection import RepeatedKFold, cross_val_score\n",
    "\n",
    "protected = ['dew_point']\n",
    "\n",
    "selected_columns = [\n",
    "    'NOx(GT)', 'PT08.S3(NOx)', 'NO2(GT)',\n",
    "    'PT08.S4(NO2)', 'PT08.S5(O3)',\n",
    "    'dew_point', 'Weekday', 'Weekday_revo',\n",
    "    'C6H6_roll3', 'C6H6_lag1'\n",
    "]\n",
    "\n",
    "corr_matrix = X_df[selected_columns].corr().abs()\n",
    "upper = corr_matrix.where(np.triu(np.ones(corr_matrix.shape), k=1).astype(bool))\n",
    "\n",
    "to_drop = []\n",
    "threshold = 0.9\n",
    "for column in upper.columns:\n",
    "    for row in upper.index:\n",
    "        if upper.loc[row, column] > threshold:\n",
    "            if column not in protected and row not in protected:\n",
    "                to_drop.append(column)\n",
    "\n",
    "to_drop = list(set(to_drop))\n",
    "print(\" Видаляємо мультиколінеарні ознаки (крім dew_point):\", to_drop)\n",
    "\n",
    "selected_columns_updated = [col for col in selected_columns if col not in to_drop]\n",
    "X_df_final = X_df[selected_columns_updated]\n",
    "\n",
    "poly = PolynomialFeatures(degree=2, include_bias=False)\n",
    "preprocessor = make_column_transformer(\n",
    "    (poly, X_df_final.columns),\n",
    "    remainder=\"passthrough\",\n",
    "    verbose_feature_names_out=False\n",
    ")\n",
    "\n",
    "selector = SelectFromModel(LinearRegression(), threshold=0.00001)\n",
    "\n",
    "model_pipeline = make_pipeline(\n",
    "    preprocessor,\n",
    "    selector,\n",
    "    TransformedTargetRegressor(regressor=LinearRegression())\n",
    ")\n",
    "\n",
    "cv = RepeatedKFold(n_splits=10, n_repeats=3, random_state=1)\n",
    "scores = cross_val_score(model_pipeline, X_df_final, Y_df,\n",
    "                         scoring='neg_mean_absolute_error', cv=cv, n_jobs=-1)\n",
    "\n",
    "model_pipeline.fit(X_df_final, Y_df)\n",
    "\n",
    "feature_names = model_pipeline.named_steps['columntransformer'].get_feature_names_out()\n",
    "coefs = model_pipeline.named_steps['selectfrommodel'].estimator_.coef_\n",
    "mask = model_pipeline.named_steps['selectfrommodel'].get_support()\n",
    "\n",
    "coef_df = pd.DataFrame({\n",
    "    'Feature': np.array(feature_names)[mask],\n",
    "    'Importance': coefs[mask]\n",
    "}).sort_values(by='Importance', key=abs, ascending=False).head(10)\n",
    "\n",
    "plt.figure(figsize=(10, 7))\n",
    "sns.barplot(data=coef_df, y='Feature', x='Importance', palette='viridis')\n",
    "plt.title('Топ-10 важливих ознак після видалення мультиколінеарних (dew_point збережено)')\n",
    "plt.tight_layout()\n",
    "plt.grid(True, axis='x')\n",
    "plt.show()\n",
    "\n",
    "print(f\"MAE після очищення (з dew_point): {np.mean(np.abs(scores)):.3f} ± {np.std(scores):.3f}\")\n"
   ],
   "metadata": {
    "colab": {
     "base_uri": "https://localhost:8080/",
     "height": 843
    },
    "id": "_hzp9DjXywPM",
    "outputId": "33da1678-17d7-4fd1-cc2d-ef7b336af508"
   },
   "outputs": [],
   "execution_count": null
  },
  {
   "cell_type": "markdown",
   "source": [],
   "metadata": {
    "id": "ojxr9m0g6o91"
   }
  },
  {
   "cell_type": "markdown",
   "source": [
    "Під час побудови регресійної моделі було проведено аналіз мультиколінеарності з порогом 0.9. Надмірно корельовані ознаки були видалені, окрім dew_point, який збережено через його фізичну обґрунтованість та значущість у моделі. Додано поліноміальні ознаки другого ступеня для врахування нелінійних залежностей. Для відбору важливих фіч використано SelectFromModel з лінійною регресією. Модель перевірено за допомогою повторної крос-валідації, отримано MAE = 1.132 ± 0.034."
   ],
   "metadata": {
    "id": "n846-Fal6zuT"
   }
  },
  {
   "cell_type": "code",
   "source": [],
   "metadata": {
    "id": "CE1M5h5b7RPa"
   },
   "outputs": [],
   "execution_count": null
  },
  {
   "cell_type": "code",
   "source": [
    "import pandas as pd\n",
    "import numpy as np\n",
    "import seaborn as sns\n",
    "import matplotlib.pyplot as plt\n",
    "from sklearn.linear_model import LinearRegression\n",
    "from sklearn.feature_selection import SelectFromModel\n",
    "from sklearn.pipeline import make_pipeline\n",
    "from sklearn.preprocessing import PolynomialFeatures\n",
    "from sklearn.compose import make_column_transformer, TransformedTargetRegressor\n",
    "from sklearn.model_selection import RepeatedKFold, cross_val_score\n",
    "\n",
    "\n",
    "selected_columns = [\n",
    "    'NOx(GT)', 'PT08.S3(NOx)', 'NO2(GT)',\n",
    "    'PT08.S4(NO2)', 'PT08.S5(O3)',\n",
    "    'RH', 'dew_point',\n",
    "    'Weekday', 'Weekday_revo',\n",
    "    'C6H6_roll3', 'C6H6_lag1'\n",
    "]\n",
    "\n",
    "corr_matrix = X_df[selected_columns].corr().abs()\n",
    "upper = corr_matrix.where(np.triu(np.ones(corr_matrix.shape), k=1).astype(bool))\n",
    "\n",
    "to_drop = []\n",
    "threshold = 0.95\n",
    "for column in upper.columns:\n",
    "    for row in upper.index:\n",
    "        if upper.loc[row, column] > threshold:\n",
    "          to_drop.append(column)\n",
    "\n",
    "to_drop = list(set(to_drop))\n",
    "print(\" Видаляємо мультиколінеарні ознаки (крім dew_point):\", to_drop)\n",
    "\n",
    "selected_columns_updated = [col for col in selected_columns if col not in to_drop]\n",
    "X_df_final = X_df[selected_columns_updated]\n",
    "\n",
    "poly = PolynomialFeatures(degree=2, include_bias=False)\n",
    "preprocessor = make_column_transformer(\n",
    "    (poly, X_df_final.columns),\n",
    "    remainder=\"passthrough\",\n",
    "    verbose_feature_names_out=False\n",
    ")\n",
    "\n",
    "selector = SelectFromModel(LinearRegression(), threshold=0.00001)\n",
    "\n",
    "model_pipeline = make_pipeline(\n",
    "    preprocessor,\n",
    "    selector,\n",
    "    TransformedTargetRegressor(regressor=LinearRegression())\n",
    ")\n",
    "\n",
    "cv = RepeatedKFold(n_splits=10, n_repeats=3, random_state=1)\n",
    "scores = cross_val_score(model_pipeline, X_df_final, Y_df,\n",
    "                         scoring='neg_mean_absolute_error', cv=cv, n_jobs=-1)\n",
    "\n",
    "model_pipeline.fit(X_df_final, Y_df)\n",
    "\n",
    "feature_names = model_pipeline.named_steps['columntransformer'].get_feature_names_out()\n",
    "coefs = model_pipeline.named_steps['selectfrommodel'].estimator_.coef_\n",
    "mask = model_pipeline.named_steps['selectfrommodel'].get_support()\n",
    "\n",
    "coef_df = pd.DataFrame({\n",
    "    'Feature': np.array(feature_names)[mask],\n",
    "    'Importance': coefs[mask]\n",
    "}).sort_values(by='Importance', key=abs, ascending=False).head(10)\n",
    "\n",
    "plt.figure(figsize=(10, 7))\n",
    "sns.barplot(data=coef_df, y='Feature', x='Importance', palette='viridis')\n",
    "plt.title('Топ-10 важливих ознак після видалення мультиколінеарних')\n",
    "plt.tight_layout()\n",
    "plt.grid(True, axis='x')\n",
    "plt.show()\n",
    "\n",
    "print(f\"MAE після очищення (з  відносна вологість): {np.mean(np.abs(scores)):.3f} ± {np.std(scores):.3f}\")\n"
   ],
   "metadata": {
    "colab": {
     "base_uri": "https://localhost:8080/",
     "height": 843
    },
    "outputId": "1ec20f3d-68cb-4e4f-b700-d03309e7a967",
    "id": "b0aGxhnR8lBF"
   },
   "outputs": [],
   "execution_count": null
  },
  {
   "cell_type": "markdown",
   "source": [
    "Під час побудови моделі було виявлено мультиколінеарні ознаки за допомогою кореляційної матриці з порогом 0.95. Надмірно корельовані ознаки видалялися, однак RH (відносна вологість) було усвідомлено збережено через її високу значущість у фізичному та статистичному сенсі.\n",
    "\n",
    "Було застосовано поліноміальне розширення ознак (PolynomialFeatures) для врахування взаємодій та нелінійностей. Надалі, SelectFromModel на основі LinearRegression дозволив залишити лише найбільш інформативні фічі.\n",
    "\n",
    "Модель перевірено за допомогою Repeated K-Fold Cross-Validation, що дозволило уникнути переобучення. Отримано MAE = 0.869 ± 0.030, що свідчить про високу точність та стабільність.\n",
    "\n",
    "Ключовий момент — збереження RH та dew_point як важливих показників атмосферного стану, навіть якщо вони потенційно мультиколінеарні, оскільки вони покращують модель як аналітично, так і логічно."
   ],
   "metadata": {
    "id": "w47B6Ghb-l9k"
   }
  },
  {
   "cell_type": "code",
   "source": [],
   "metadata": {
    "id": "LKXGUCS7-nkR"
   },
   "outputs": [],
   "execution_count": null
  }
 ],
 "metadata": {
  "colab": {
   "collapsed_sections": [
    "5s2boTPxAnzW"
   ],
   "provenance": [],
   "toc_visible": true,
   "include_colab_link": true
  },
  "kernelspec": {
   "display_name": "Python 3 (ipykernel)",
   "language": "python",
   "name": "python3"
  },
  "language_info": {
   "codemirror_mode": {
    "name": "ipython",
    "version": 3
   },
   "file_extension": ".py",
   "mimetype": "text/x-python",
   "name": "python",
   "nbconvert_exporter": "python",
   "pygments_lexer": "ipython3",
   "version": "3.10.6"
  }
 },
 "nbformat": 4,
 "nbformat_minor": 0
}
