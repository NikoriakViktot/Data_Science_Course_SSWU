{
 "cells": [
  {
   "cell_type": "code",
   "id": "initial_id",
   "metadata": {
    "collapsed": true,
    "ExecuteTime": {
     "end_time": "2025-05-11T09:14:33.593934Z",
     "start_time": "2025-05-11T09:14:33.591564Z"
    }
   },
   "source": [
    "import pandas as pd\n",
    "import matplotlib.pyplot as plt\n",
    "import seaborn as sns"
   ],
   "outputs": [],
   "execution_count": 1
  },
  {
   "metadata": {
    "ExecuteTime": {
     "end_time": "2025-05-11T09:15:08.103537Z",
     "start_time": "2025-05-11T09:15:07.981764Z"
    }
   },
   "cell_type": "code",
   "source": "df = pd.read_csv(r'C:\\Users\\5302\\PycharmProjects\\Data_Science_Course_SSWU\\task_5\\data\\prepared_dataset_for_voronin.csv')",
   "id": "3aba7615c2eb4aae",
   "outputs": [],
   "execution_count": 2
  },
  {
   "metadata": {
    "ExecuteTime": {
     "end_time": "2025-05-11T09:15:24.306632Z",
     "start_time": "2025-05-11T09:15:24.301631Z"
    }
   },
   "cell_type": "code",
   "source": "df.columns",
   "id": "f9848cf1a023a49a",
   "outputs": [
    {
     "data": {
      "text/plain": [
       "Index(['Region', 'Year', 'Crop', 'Crop_Eng', 'Drought',\n",
       "       'Average_soil_moisture', 'Yield'],\n",
       "      dtype='object')"
      ]
     },
     "execution_count": 3,
     "metadata": {},
     "output_type": "execute_result"
    }
   ],
   "execution_count": 3
  },
  {
   "metadata": {
    "ExecuteTime": {
     "end_time": "2025-05-11T09:16:06.532175Z",
     "start_time": "2025-05-11T09:16:06.521584Z"
    }
   },
   "cell_type": "code",
   "source": "df['Crop'].unique()",
   "id": "3bdbb739d0e8ab0b",
   "outputs": [
    {
     "data": {
      "text/plain": [
       "array(['Картопля', 'Кукурудза', 'Пшениця', 'Соняшник', 'Соя', 'Ячмінь'],\n",
       "      dtype=object)"
      ]
     },
     "execution_count": 4,
     "metadata": {},
     "output_type": "execute_result"
    }
   ],
   "execution_count": 4
  }
 ],
 "metadata": {
  "kernelspec": {
   "display_name": "Python 3",
   "language": "python",
   "name": "python3"
  },
  "language_info": {
   "codemirror_mode": {
    "name": "ipython",
    "version": 2
   },
   "file_extension": ".py",
   "mimetype": "text/x-python",
   "name": "python",
   "nbconvert_exporter": "python",
   "pygments_lexer": "ipython2",
   "version": "2.7.6"
  }
 },
 "nbformat": 4,
 "nbformat_minor": 5
}
